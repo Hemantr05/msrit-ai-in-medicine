{
  "nbformat": 4,
  "nbformat_minor": 0,
  "metadata": {
    "colab": {
      "provenance": [],
      "collapsed_sections": [],
      "mount_file_id": "1bhn6ctPJYMNYKTj-gc0ownWF0WYLHoQF",
      "authorship_tag": "ABX9TyN31R4J+4J6JTMbbfAOB+ou",
      "include_colab_link": true
    },
    "kernelspec": {
      "name": "python3",
      "display_name": "Python 3"
    },
    "language_info": {
      "name": "python"
    }
  },
  "cells": [
    {
      "cell_type": "markdown",
      "metadata": {
        "id": "view-in-github",
        "colab_type": "text"
      },
      "source": [
        "<a href=\"https://colab.research.google.com/github/Hemantr05/msrit-ai-in-medicine/blob/master/hands-on/medical_ner_spacy.ipynb\" target=\"_parent\"><img src=\"https://colab.research.google.com/assets/colab-badge.svg\" alt=\"Open In Colab\"/></a>"
      ]
    },
    {
      "cell_type": "markdown",
      "source": [
        "## Download dependencies"
      ],
      "metadata": {
        "id": "lGBWyr7-PgdP"
      }
    },
    {
      "cell_type": "code",
      "source": [
        "!pip install -U spacy\n",
        "!pip install scispacy\n",
        "!pip install https://s3-us-west-2.amazonaws.com/ai2-s2-scispacy/releases/v0.5.1/en_ner_bionlp13cg_md-0.5.1.tar.gz\n",
        "# !pip install https://s3-us-west-2.amazonaws.com/ai2-s2-scispacy/releases/v0.5.1/en_core_sci_sm-0.5.1.tar.gz\n",
        "# !pip install https://s3-us-west-2.amazonaws.com/ai2-s2-scispacy/releases/v0.5.1/en_core_sci_scibert-0.5.1.tar.gz"
      ],
      "metadata": {
        "id": "W7ORZve0dig-"
      },
      "execution_count": null,
      "outputs": []
    },
    {
      "cell_type": "code",
      "source": [
        "import spacy\n",
        "from spacy import displacy\n",
        "\n",
        "NER = spacy.load(\"en_ner_bionlp13cg_md\")\n",
        "# NER = spacy.load(\"en_core_sci_sm\")\n",
        "# NER = spacy.load(\"en_core_sci_scibert\")"
      ],
      "metadata": {
        "id": "5R7C6SHDH-fc"
      },
      "execution_count": null,
      "outputs": []
    },
    {
      "cell_type": "markdown",
      "source": [
        "## Text sample"
      ],
      "metadata": {
        "id": "VGYVN6OVPcju"
      }
    },
    {
      "cell_type": "code",
      "source": [
        "raw_text = '''Myeloid derived suppressor cells (MDSC) are immature \n",
        "          myeloid cells with immunosuppressive activity. \n",
        "          They accumulate in tumor-bearing mice and humans \n",
        "          with different types of cancer, including hepatocellular \n",
        "          carcinoma (HCC).'''"
      ],
      "metadata": {
        "id": "srtVz6oKKZ6s"
      },
      "execution_count": null,
      "outputs": []
    },
    {
      "cell_type": "code",
      "source": [
        "text1= NER(raw_text)"
      ],
      "metadata": {
        "id": "18C5Ph-HKZ9O"
      },
      "execution_count": null,
      "outputs": []
    },
    {
      "cell_type": "code",
      "source": [
        "for word in text1.ents:\n",
        "    print(word.text,word.label_)"
      ],
      "metadata": {
        "colab": {
          "base_uri": "https://localhost:8080/"
        },
        "id": "FR5ofrkrKZ_m",
        "outputId": "8e8f2d8a-f083-4469-cbd3-7d8ef463636d"
      },
      "execution_count": null,
      "outputs": [
        {
          "output_type": "stream",
          "name": "stdout",
          "text": [
            "Myeloid derived suppressor cells TISSUE\n",
            "myeloid cells CELL\n",
            "mice ORGANISM\n",
            "humans ORGANISM\n",
            "cancer CANCER\n",
            "hepatocellular MULTI_TISSUE_STRUCTURE\n",
            "carcinoma CANCER\n",
            "HCC CANCER\n"
          ]
        }
      ]
    },
    {
      "cell_type": "code",
      "source": [
        "displacy.render(text1,style=\"ent\",jupyter=True)"
      ],
      "metadata": {
        "colab": {
          "base_uri": "https://localhost:8080/",
          "height": 192
        },
        "id": "xpguX_4RKaFE",
        "outputId": "0a5ed4bb-15bb-430d-c29c-024d9d9e9f46"
      },
      "execution_count": null,
      "outputs": [
        {
          "output_type": "display_data",
          "data": {
            "text/plain": [
              "<IPython.core.display.HTML object>"
            ],
            "text/html": [
              "<span class=\"tex2jax_ignore\"><div class=\"entities\" style=\"line-height: 2.5; direction: ltr\">\n",
              "<mark class=\"entity\" style=\"background: #ddd; padding: 0.45em 0.6em; margin: 0 0.25em; line-height: 1; border-radius: 0.35em;\">\n",
              "    Myeloid derived suppressor cells\n",
              "    <span style=\"font-size: 0.8em; font-weight: bold; line-height: 1; border-radius: 0.35em; vertical-align: middle; margin-left: 0.5rem\">TISSUE</span>\n",
              "</mark>\n",
              " (MDSC) are immature </br>          \n",
              "<mark class=\"entity\" style=\"background: #ddd; padding: 0.45em 0.6em; margin: 0 0.25em; line-height: 1; border-radius: 0.35em;\">\n",
              "    myeloid cells\n",
              "    <span style=\"font-size: 0.8em; font-weight: bold; line-height: 1; border-radius: 0.35em; vertical-align: middle; margin-left: 0.5rem\">CELL</span>\n",
              "</mark>\n",
              " with immunosuppressive activity. </br>          They accumulate in tumor-bearing \n",
              "<mark class=\"entity\" style=\"background: #ddd; padding: 0.45em 0.6em; margin: 0 0.25em; line-height: 1; border-radius: 0.35em;\">\n",
              "    mice\n",
              "    <span style=\"font-size: 0.8em; font-weight: bold; line-height: 1; border-radius: 0.35em; vertical-align: middle; margin-left: 0.5rem\">ORGANISM</span>\n",
              "</mark>\n",
              " and \n",
              "<mark class=\"entity\" style=\"background: #ddd; padding: 0.45em 0.6em; margin: 0 0.25em; line-height: 1; border-radius: 0.35em;\">\n",
              "    humans\n",
              "    <span style=\"font-size: 0.8em; font-weight: bold; line-height: 1; border-radius: 0.35em; vertical-align: middle; margin-left: 0.5rem\">ORGANISM</span>\n",
              "</mark>\n",
              " </br>          with different types of \n",
              "<mark class=\"entity\" style=\"background: #ddd; padding: 0.45em 0.6em; margin: 0 0.25em; line-height: 1; border-radius: 0.35em;\">\n",
              "    cancer\n",
              "    <span style=\"font-size: 0.8em; font-weight: bold; line-height: 1; border-radius: 0.35em; vertical-align: middle; margin-left: 0.5rem\">CANCER</span>\n",
              "</mark>\n",
              ", including \n",
              "<mark class=\"entity\" style=\"background: #ddd; padding: 0.45em 0.6em; margin: 0 0.25em; line-height: 1; border-radius: 0.35em;\">\n",
              "    hepatocellular\n",
              "    <span style=\"font-size: 0.8em; font-weight: bold; line-height: 1; border-radius: 0.35em; vertical-align: middle; margin-left: 0.5rem\">MULTI_TISSUE_STRUCTURE</span>\n",
              "</mark>\n",
              " </br>          \n",
              "<mark class=\"entity\" style=\"background: #ddd; padding: 0.45em 0.6em; margin: 0 0.25em; line-height: 1; border-radius: 0.35em;\">\n",
              "    carcinoma\n",
              "    <span style=\"font-size: 0.8em; font-weight: bold; line-height: 1; border-radius: 0.35em; vertical-align: middle; margin-left: 0.5rem\">CANCER</span>\n",
              "</mark>\n",
              " (\n",
              "<mark class=\"entity\" style=\"background: #ddd; padding: 0.45em 0.6em; margin: 0 0.25em; line-height: 1; border-radius: 0.35em;\">\n",
              "    HCC\n",
              "    <span style=\"font-size: 0.8em; font-weight: bold; line-height: 1; border-radius: 0.35em; vertical-align: middle; margin-left: 0.5rem\">CANCER</span>\n",
              "</mark>\n",
              ").</div></span>"
            ]
          },
          "metadata": {}
        }
      ]
    },
    {
      "cell_type": "markdown",
      "source": [
        "## Report sample\n",
        "\n",
        "Reports: https://www.med.unc.edu/medclerk/education/grading/history-and-physical-examination-h-p-examples/\n",
        "\n",
        "Current sample report: https://www.med.unc.edu/medclerk/wp-content/uploads/sites/877/2018/10/hp1.pdf"
      ],
      "metadata": {
        "id": "qTNxv7MJPS13"
      }
    },
    {
      "cell_type": "code",
      "source": [
        "# Chief Complaint\n",
        "\n",
        "raw_text = \"swelling of tongue and difficulty breathing and swallowing\"\n",
        "text1= NER(raw_text)\n",
        "for word in text1.ents:\n",
        "    print(word.text,word.label_)"
      ],
      "metadata": {
        "colab": {
          "base_uri": "https://localhost:8080/"
        },
        "id": "ZwBcVigeN-j6",
        "outputId": "ec6ec59b-d0b7-49da-f1d4-64488a0f9c89"
      },
      "execution_count": null,
      "outputs": [
        {
          "output_type": "stream",
          "name": "stdout",
          "text": [
            "tongue TISSUE\n"
          ]
        }
      ]
    },
    {
      "cell_type": "code",
      "source": [
        "displacy.render(text1,style=\"ent\",jupyter=True)"
      ],
      "metadata": {
        "colab": {
          "base_uri": "https://localhost:8080/",
          "height": 52
        },
        "id": "airzmFOrN-Fd",
        "outputId": "abfb4204-fbab-4b58-da91-4ba64ebd423b"
      },
      "execution_count": null,
      "outputs": [
        {
          "output_type": "display_data",
          "data": {
            "text/plain": [
              "<IPython.core.display.HTML object>"
            ],
            "text/html": [
              "<span class=\"tex2jax_ignore\"><div class=\"entities\" style=\"line-height: 2.5; direction: ltr\">swelling of \n",
              "<mark class=\"entity\" style=\"background: #ddd; padding: 0.45em 0.6em; margin: 0 0.25em; line-height: 1; border-radius: 0.35em;\">\n",
              "    tongue\n",
              "    <span style=\"font-size: 0.8em; font-weight: bold; line-height: 1; border-radius: 0.35em; vertical-align: middle; margin-left: 0.5rem\">TISSUE</span>\n",
              "</mark>\n",
              " and difficulty breathing and swallowing</div></span>"
            ]
          },
          "metadata": {}
        }
      ]
    },
    {
      "cell_type": "code",
      "source": [
        "# History of Present Illness\n",
        "\n",
        "raw_text = '''77 y o woman in NAD with a h/o CAD, DM2, asthma and HTN on altace \n",
        "          for 8 years awoke from sleep around 2:30 am this morning of a sore throat \n",
        "          and swelling of tongue. She came immediately to the ED b/c she was having \n",
        "          difficulty swallowing and some trouble breathing due to obstruction caused \n",
        "          by the swelling. She has never had a similar reaction ever before and she \n",
        "          did not have any associated SOB, chest pain, itching, or nausea. \n",
        "          She has not noticed any rashes, and has been afebrile. \n",
        "          She says that she feels like it is swollen down in her esophagus as well. \n",
        "          In the ED she was given 25mg benadryl IV, 125 mg solumedrol IV and pepcid 20 mg IV. \n",
        "          This has helped the swelling some but her throat still hurts and it hurts to swallow. \n",
        "          Nothing else was able to relieve the pain and nothing make it worse though she has not tried to drink any fluids because of trouble swallowing. \n",
        "          She denies any recent travel, recent exposure to unusual plants or animals or other allergens. \n",
        "          She has not started any new medications, has not used any new lotions or perfumes and has not eaten any unusual foods. \n",
        "          Patient has not taken any of her oral medications today.\n",
        "'''\n",
        "\n",
        "text1= NER(raw_text)\n",
        "for word in text1.ents:\n",
        "    print(word.text,word.label_)"
      ],
      "metadata": {
        "colab": {
          "base_uri": "https://localhost:8080/"
        },
        "id": "YI8DwWubNkT3",
        "outputId": "f3e88d82-ac46-4720-cf76-4b4744691695"
      },
      "execution_count": null,
      "outputs": [
        {
          "output_type": "stream",
          "name": "stdout",
          "text": [
            "NAD CELLULAR_COMPONENT\n",
            "tongue TISSUE\n",
            "esophagus ORGAN\n",
            "solumedrol IV SIMPLE_CHEMICAL\n",
            "oral ORGANISM_SUBDIVISION\n"
          ]
        }
      ]
    },
    {
      "cell_type": "code",
      "source": [
        "displacy.render(text1,style=\"ent\",jupyter=True)"
      ],
      "metadata": {
        "colab": {
          "base_uri": "https://localhost:8080/",
          "height": 507
        },
        "id": "g5HHUb0JN3mW",
        "outputId": "fe34f659-5c8c-4d3e-9cc4-8a6ae786e318"
      },
      "execution_count": null,
      "outputs": [
        {
          "output_type": "display_data",
          "data": {
            "text/plain": [
              "<IPython.core.display.HTML object>"
            ],
            "text/html": [
              "<span class=\"tex2jax_ignore\"><div class=\"entities\" style=\"line-height: 2.5; direction: ltr\">77 y o woman in \n",
              "<mark class=\"entity\" style=\"background: #ddd; padding: 0.45em 0.6em; margin: 0 0.25em; line-height: 1; border-radius: 0.35em;\">\n",
              "    NAD\n",
              "    <span style=\"font-size: 0.8em; font-weight: bold; line-height: 1; border-radius: 0.35em; vertical-align: middle; margin-left: 0.5rem\">CELLULAR_COMPONENT</span>\n",
              "</mark>\n",
              " with a h/o CAD, DM2, asthma and HTN on altace </br>          for 8 years awoke from sleep around 2:30 am this morning of a sore throat </br>          and swelling of \n",
              "<mark class=\"entity\" style=\"background: #ddd; padding: 0.45em 0.6em; margin: 0 0.25em; line-height: 1; border-radius: 0.35em;\">\n",
              "    tongue\n",
              "    <span style=\"font-size: 0.8em; font-weight: bold; line-height: 1; border-radius: 0.35em; vertical-align: middle; margin-left: 0.5rem\">TISSUE</span>\n",
              "</mark>\n",
              ". She came immediately to the ED b/c she was having </br>          difficulty swallowing and some trouble breathing due to obstruction caused </br>          by the swelling. She has never had a similar reaction ever before and she </br>          did not have any associated SOB, chest pain, itching, or nausea. </br>          She has not noticed any rashes, and has been afebrile. </br>          She says that she feels like it is swollen down in her \n",
              "<mark class=\"entity\" style=\"background: #ddd; padding: 0.45em 0.6em; margin: 0 0.25em; line-height: 1; border-radius: 0.35em;\">\n",
              "    esophagus\n",
              "    <span style=\"font-size: 0.8em; font-weight: bold; line-height: 1; border-radius: 0.35em; vertical-align: middle; margin-left: 0.5rem\">ORGAN</span>\n",
              "</mark>\n",
              " as well. </br>          In the ED she was given 25mg benadryl IV, 125 mg \n",
              "<mark class=\"entity\" style=\"background: #ddd; padding: 0.45em 0.6em; margin: 0 0.25em; line-height: 1; border-radius: 0.35em;\">\n",
              "    solumedrol IV\n",
              "    <span style=\"font-size: 0.8em; font-weight: bold; line-height: 1; border-radius: 0.35em; vertical-align: middle; margin-left: 0.5rem\">SIMPLE_CHEMICAL</span>\n",
              "</mark>\n",
              " and pepcid 20 mg IV. </br>          This has helped the swelling some but her throat still hurts and it hurts to swallow. </br>          Nothing else was able to relieve the pain and nothing make it worse though she has not tried to drink any fluids because of trouble swallowing. </br>          She denies any recent travel, recent exposure to unusual plants or animals or other allergens. </br>          She has not started any new medications, has not used any new lotions or perfumes and has not eaten any unusual foods. </br>          Patient has not taken any of her \n",
              "<mark class=\"entity\" style=\"background: #ddd; padding: 0.45em 0.6em; margin: 0 0.25em; line-height: 1; border-radius: 0.35em;\">\n",
              "    oral\n",
              "    <span style=\"font-size: 0.8em; font-weight: bold; line-height: 1; border-radius: 0.35em; vertical-align: middle; margin-left: 0.5rem\">ORGANISM_SUBDIVISION</span>\n",
              "</mark>\n",
              " medications today.</br></div></span>"
            ]
          },
          "metadata": {}
        }
      ]
    },
    {
      "cell_type": "code",
      "source": [
        "# Surgical History\n",
        "\n",
        "raw_text = '''\n",
        "s/p vaginal wall operation for prolapse 2006 s/p Cardiac stent in 1999\n",
        "s/p hystarectomy in 1970s\n",
        "s/p kidney stone retrieval 1960s\n",
        "'''\n",
        "\n",
        "text1= NER(raw_text)\n",
        "for word in text1.ents:\n",
        "    print(word.text,word.label_)"
      ],
      "metadata": {
        "colab": {
          "base_uri": "https://localhost:8080/"
        },
        "id": "Yt6yLfY6Oa0t",
        "outputId": "31f7b1f9-8a1c-4792-ecee-67eccf981673"
      },
      "execution_count": null,
      "outputs": [
        {
          "output_type": "stream",
          "name": "stdout",
          "text": [
            "s/p vaginal wall MULTI_TISSUE_STRUCTURE\n",
            "s/p kidney stone CANCER\n"
          ]
        }
      ]
    },
    {
      "cell_type": "code",
      "source": [
        "displacy.render(text1,style=\"ent\",jupyter=True)"
      ],
      "metadata": {
        "colab": {
          "base_uri": "https://localhost:8080/",
          "height": 157
        },
        "id": "EcICHu1rN4j_",
        "outputId": "0b905501-31c5-43ff-a222-2f222ed15f89"
      },
      "execution_count": null,
      "outputs": [
        {
          "output_type": "display_data",
          "data": {
            "text/plain": [
              "<IPython.core.display.HTML object>"
            ],
            "text/html": [
              "<span class=\"tex2jax_ignore\"><div class=\"entities\" style=\"line-height: 2.5; direction: ltr\"></br>\n",
              "<mark class=\"entity\" style=\"background: #ddd; padding: 0.45em 0.6em; margin: 0 0.25em; line-height: 1; border-radius: 0.35em;\">\n",
              "    s/p vaginal wall\n",
              "    <span style=\"font-size: 0.8em; font-weight: bold; line-height: 1; border-radius: 0.35em; vertical-align: middle; margin-left: 0.5rem\">MULTI_TISSUE_STRUCTURE</span>\n",
              "</mark>\n",
              " operation for prolapse 2006 s/p Cardiac stent in 1999</br>s/p hystarectomy in 1970s</br>\n",
              "<mark class=\"entity\" style=\"background: #ddd; padding: 0.45em 0.6em; margin: 0 0.25em; line-height: 1; border-radius: 0.35em;\">\n",
              "    s/p kidney stone\n",
              "    <span style=\"font-size: 0.8em; font-weight: bold; line-height: 1; border-radius: 0.35em; vertical-align: middle; margin-left: 0.5rem\">CANCER</span>\n",
              "</mark>\n",
              " retrieval 1960s</br></div></span>"
            ]
          },
          "metadata": {}
        }
      ]
    },
    {
      "cell_type": "code",
      "source": [
        "# Medical History:\n",
        "raw_text = '''+CAD w/ Left heart cath in 2005 showing 40% LAD, 50% small D2, 40% RCA and 30% large OM; 2006 TTE showing LVEF 60-65% with diastolic dysfunction, LVH, mild LA dilation\n",
        "+Hyperlipidemia\n",
        "+HTN\n",
        "+DM 2, last A1c 6.7 in 9/2005 +Asthma/COPD\n",
        "+GERD\n",
        "+h/o iron deficiency anemia\n",
        "'''\n",
        "text1= NER(raw_text)\n",
        "for word in text1.ents:\n",
        "    print(word.text,word.label_)"
      ],
      "metadata": {
        "colab": {
          "base_uri": "https://localhost:8080/"
        },
        "id": "8QWCacKkOjBU",
        "outputId": "4d6f0cd3-cd42-4a03-dcd0-9d7d50505e10"
      },
      "execution_count": null,
      "outputs": [
        {
          "output_type": "stream",
          "name": "stdout",
          "text": [
            "heart ORGAN\n",
            "LAD MULTI_TISSUE_STRUCTURE\n",
            "LA GENE_OR_GENE_PRODUCT\n",
            "A1c SIMPLE_CHEMICAL\n",
            "9/2005 ORGANISM_SUBDIVISION\n",
            "iron SIMPLE_CHEMICAL\n"
          ]
        }
      ]
    },
    {
      "cell_type": "code",
      "source": [
        "displacy.render(text1,style=\"ent\",jupyter=True)"
      ],
      "metadata": {
        "colab": {
          "base_uri": "https://localhost:8080/",
          "height": 262
        },
        "id": "LbjeEjPRQLcS",
        "outputId": "3f1d4c11-0edb-46cf-ddc8-62285b37e6e4"
      },
      "execution_count": null,
      "outputs": [
        {
          "output_type": "display_data",
          "data": {
            "text/plain": [
              "<IPython.core.display.HTML object>"
            ],
            "text/html": [
              "<span class=\"tex2jax_ignore\"><div class=\"entities\" style=\"line-height: 2.5; direction: ltr\">+CAD w/ Left \n",
              "<mark class=\"entity\" style=\"background: #ddd; padding: 0.45em 0.6em; margin: 0 0.25em; line-height: 1; border-radius: 0.35em;\">\n",
              "    heart\n",
              "    <span style=\"font-size: 0.8em; font-weight: bold; line-height: 1; border-radius: 0.35em; vertical-align: middle; margin-left: 0.5rem\">ORGAN</span>\n",
              "</mark>\n",
              " cath in 2005 showing 40% \n",
              "<mark class=\"entity\" style=\"background: #ddd; padding: 0.45em 0.6em; margin: 0 0.25em; line-height: 1; border-radius: 0.35em;\">\n",
              "    LAD\n",
              "    <span style=\"font-size: 0.8em; font-weight: bold; line-height: 1; border-radius: 0.35em; vertical-align: middle; margin-left: 0.5rem\">MULTI_TISSUE_STRUCTURE</span>\n",
              "</mark>\n",
              ", 50% small D2, 40% RCA and 30% large OM; 2006 TTE showing LVEF 60-65% with diastolic dysfunction, LVH, mild \n",
              "<mark class=\"entity\" style=\"background: #ddd; padding: 0.45em 0.6em; margin: 0 0.25em; line-height: 1; border-radius: 0.35em;\">\n",
              "    LA\n",
              "    <span style=\"font-size: 0.8em; font-weight: bold; line-height: 1; border-radius: 0.35em; vertical-align: middle; margin-left: 0.5rem\">GENE_OR_GENE_PRODUCT</span>\n",
              "</mark>\n",
              " dilation</br>+Hyperlipidemia</br>+HTN</br>+DM 2, last \n",
              "<mark class=\"entity\" style=\"background: #ddd; padding: 0.45em 0.6em; margin: 0 0.25em; line-height: 1; border-radius: 0.35em;\">\n",
              "    A1c\n",
              "    <span style=\"font-size: 0.8em; font-weight: bold; line-height: 1; border-radius: 0.35em; vertical-align: middle; margin-left: 0.5rem\">SIMPLE_CHEMICAL</span>\n",
              "</mark>\n",
              " 6.7 in \n",
              "<mark class=\"entity\" style=\"background: #ddd; padding: 0.45em 0.6em; margin: 0 0.25em; line-height: 1; border-radius: 0.35em;\">\n",
              "    9/2005\n",
              "    <span style=\"font-size: 0.8em; font-weight: bold; line-height: 1; border-radius: 0.35em; vertical-align: middle; margin-left: 0.5rem\">ORGANISM_SUBDIVISION</span>\n",
              "</mark>\n",
              " +Asthma/COPD</br>+GERD</br>+h/o \n",
              "<mark class=\"entity\" style=\"background: #ddd; padding: 0.45em 0.6em; margin: 0 0.25em; line-height: 1; border-radius: 0.35em;\">\n",
              "    iron\n",
              "    <span style=\"font-size: 0.8em; font-weight: bold; line-height: 1; border-radius: 0.35em; vertical-align: middle; margin-left: 0.5rem\">SIMPLE_CHEMICAL</span>\n",
              "</mark>\n",
              " deficiency anemia</br></div></span>"
            ]
          },
          "metadata": {}
        }
      ]
    },
    {
      "cell_type": "code",
      "source": [
        "# Social History:\n",
        "raw_text = '''Patient lives in _______ with daughter _____ (919) _______. \n",
        "Patient does all ADLs and IADLs with no/little assistance. \n",
        "She does own finances and drives. \n",
        "Patient has 4 daughters that all live in the area. \n",
        "Patient does not use tobacco, alcohol, illicit drugs.\n",
        "'''\n",
        "\n",
        "text1= NER(raw_text)\n",
        "for word in text1.ents:\n",
        "    print(word.text,word.label_)"
      ],
      "metadata": {
        "colab": {
          "base_uri": "https://localhost:8080/"
        },
        "id": "gNTiN8w4QLwD",
        "outputId": "ec680c6d-5dc8-4d75-f0d0-25b9617feb63"
      },
      "execution_count": null,
      "outputs": [
        {
          "output_type": "stream",
          "name": "stdout",
          "text": [
            "Patient ORGANISM\n",
            "daughter _____ SIMPLE_CHEMICAL\n",
            "ADLs SIMPLE_CHEMICAL\n",
            "IADLs SIMPLE_CHEMICAL\n",
            "tobacco ORGANISM\n",
            "alcohol SIMPLE_CHEMICAL\n"
          ]
        }
      ]
    },
    {
      "cell_type": "code",
      "source": [
        "displacy.render(text1,style=\"ent\",jupyter=True)"
      ],
      "metadata": {
        "colab": {
          "base_uri": "https://localhost:8080/",
          "height": 192
        },
        "id": "9J8f68khQYpc",
        "outputId": "1d72568d-d9f5-4243-8f2b-1ab9af4a1a8d"
      },
      "execution_count": null,
      "outputs": [
        {
          "output_type": "display_data",
          "data": {
            "text/plain": [
              "<IPython.core.display.HTML object>"
            ],
            "text/html": [
              "<span class=\"tex2jax_ignore\"><div class=\"entities\" style=\"line-height: 2.5; direction: ltr\">\n",
              "<mark class=\"entity\" style=\"background: #ddd; padding: 0.45em 0.6em; margin: 0 0.25em; line-height: 1; border-radius: 0.35em;\">\n",
              "    Patient\n",
              "    <span style=\"font-size: 0.8em; font-weight: bold; line-height: 1; border-radius: 0.35em; vertical-align: middle; margin-left: 0.5rem\">ORGANISM</span>\n",
              "</mark>\n",
              " lives in _______ with \n",
              "<mark class=\"entity\" style=\"background: #ddd; padding: 0.45em 0.6em; margin: 0 0.25em; line-height: 1; border-radius: 0.35em;\">\n",
              "    daughter _____\n",
              "    <span style=\"font-size: 0.8em; font-weight: bold; line-height: 1; border-radius: 0.35em; vertical-align: middle; margin-left: 0.5rem\">SIMPLE_CHEMICAL</span>\n",
              "</mark>\n",
              " (919) _______. </br>Patient does all \n",
              "<mark class=\"entity\" style=\"background: #ddd; padding: 0.45em 0.6em; margin: 0 0.25em; line-height: 1; border-radius: 0.35em;\">\n",
              "    ADLs\n",
              "    <span style=\"font-size: 0.8em; font-weight: bold; line-height: 1; border-radius: 0.35em; vertical-align: middle; margin-left: 0.5rem\">SIMPLE_CHEMICAL</span>\n",
              "</mark>\n",
              " and \n",
              "<mark class=\"entity\" style=\"background: #ddd; padding: 0.45em 0.6em; margin: 0 0.25em; line-height: 1; border-radius: 0.35em;\">\n",
              "    IADLs\n",
              "    <span style=\"font-size: 0.8em; font-weight: bold; line-height: 1; border-radius: 0.35em; vertical-align: middle; margin-left: 0.5rem\">SIMPLE_CHEMICAL</span>\n",
              "</mark>\n",
              " with no/little assistance. </br>She does own finances and drives. </br>Patient has 4 daughters that all live in the area. </br>Patient does not use \n",
              "<mark class=\"entity\" style=\"background: #ddd; padding: 0.45em 0.6em; margin: 0 0.25em; line-height: 1; border-radius: 0.35em;\">\n",
              "    tobacco\n",
              "    <span style=\"font-size: 0.8em; font-weight: bold; line-height: 1; border-radius: 0.35em; vertical-align: middle; margin-left: 0.5rem\">ORGANISM</span>\n",
              "</mark>\n",
              ", \n",
              "<mark class=\"entity\" style=\"background: #ddd; padding: 0.45em 0.6em; margin: 0 0.25em; line-height: 1; border-radius: 0.35em;\">\n",
              "    alcohol\n",
              "    <span style=\"font-size: 0.8em; font-weight: bold; line-height: 1; border-radius: 0.35em; vertical-align: middle; margin-left: 0.5rem\">SIMPLE_CHEMICAL</span>\n",
              "</mark>\n",
              ", illicit drugs.</br></div></span>"
            ]
          },
          "metadata": {}
        }
      ]
    },
    {
      "cell_type": "code",
      "source": [
        "# Family History:\n",
        "raw_text = '''\n",
        "Patient's Dad died of liver cirrhosis at age 57, mom died of heart attack at age 60. \n",
        "She has 6 siblings who most died of cardiac disease. There is no family history of cancer.\n",
        "'''\n",
        "text1= NER(raw_text)\n",
        "for word in text1.ents:\n",
        "    print(word.text,word.label_)"
      ],
      "metadata": {
        "colab": {
          "base_uri": "https://localhost:8080/"
        },
        "id": "YF1H2eCFQY-_",
        "outputId": "b611dfee-2c88-4f97-fc6f-67a8e3ba02e8"
      },
      "execution_count": null,
      "outputs": [
        {
          "output_type": "stream",
          "name": "stdout",
          "text": [
            "liver ORGAN\n",
            "heart ORGAN\n",
            "cardiac ORGAN\n",
            "cancer CANCER\n"
          ]
        }
      ]
    },
    {
      "cell_type": "code",
      "source": [
        "displacy.render(text1,style=\"ent\",jupyter=True)"
      ],
      "metadata": {
        "colab": {
          "base_uri": "https://localhost:8080/",
          "height": 122
        },
        "id": "ypvtgXfkQlg5",
        "outputId": "1276ec8d-5014-4015-f6ee-4a83c5add5a5"
      },
      "execution_count": null,
      "outputs": [
        {
          "output_type": "display_data",
          "data": {
            "text/plain": [
              "<IPython.core.display.HTML object>"
            ],
            "text/html": [
              "<span class=\"tex2jax_ignore\"><div class=\"entities\" style=\"line-height: 2.5; direction: ltr\"></br>Patient's Dad died of \n",
              "<mark class=\"entity\" style=\"background: #ddd; padding: 0.45em 0.6em; margin: 0 0.25em; line-height: 1; border-radius: 0.35em;\">\n",
              "    liver\n",
              "    <span style=\"font-size: 0.8em; font-weight: bold; line-height: 1; border-radius: 0.35em; vertical-align: middle; margin-left: 0.5rem\">ORGAN</span>\n",
              "</mark>\n",
              " cirrhosis at age 57, mom died of \n",
              "<mark class=\"entity\" style=\"background: #ddd; padding: 0.45em 0.6em; margin: 0 0.25em; line-height: 1; border-radius: 0.35em;\">\n",
              "    heart\n",
              "    <span style=\"font-size: 0.8em; font-weight: bold; line-height: 1; border-radius: 0.35em; vertical-align: middle; margin-left: 0.5rem\">ORGAN</span>\n",
              "</mark>\n",
              " attack at age 60. </br>She has 6 siblings who most died of \n",
              "<mark class=\"entity\" style=\"background: #ddd; padding: 0.45em 0.6em; margin: 0 0.25em; line-height: 1; border-radius: 0.35em;\">\n",
              "    cardiac\n",
              "    <span style=\"font-size: 0.8em; font-weight: bold; line-height: 1; border-radius: 0.35em; vertical-align: middle; margin-left: 0.5rem\">ORGAN</span>\n",
              "</mark>\n",
              " disease. There is no family history of \n",
              "<mark class=\"entity\" style=\"background: #ddd; padding: 0.45em 0.6em; margin: 0 0.25em; line-height: 1; border-radius: 0.35em;\">\n",
              "    cancer\n",
              "    <span style=\"font-size: 0.8em; font-weight: bold; line-height: 1; border-radius: 0.35em; vertical-align: middle; margin-left: 0.5rem\">CANCER</span>\n",
              "</mark>\n",
              ".</br></div></span>"
            ]
          },
          "metadata": {}
        }
      ]
    },
    {
      "cell_type": "code",
      "source": [
        "# Assessment and Plan:\n",
        "raw_text = '''77 yo woman presents with significant angioedema in left side of tongue and inner cheek. \n",
        "Possible causes of angioedema include allergic anaphylaxis reaction, drug induced, allergic contact dermatitis, viral infection, drug induced, or a C1 inhibitor deficiency disorder acquired or hereditary. \n",
        "Laryngeal edema can also be caused by tonsillitis, peritonsilar abscess or pharyngeal foreign body.\n",
        "It is unlikely that the patient has edema caused by abscess or tonsillitis since she does not have any associated fever or other signs of infection and the sudden onset of her swelling also argues against this. \n",
        "It is not likely a foreign body since ENT did not find anything when they scoped her.\n",
        "It is unlikely that it is caused by a mast cell mediated etiologigy that increases vascular permeability through mast cell degranulation and release of inflammatory mediators include allergic angioedema, autoimmune mast cell release and direct mast cell release caused by medications such as opiates and radiocontrast media. \n",
        "It is not likely this type of reaction because these etiologies are associated with urticaria and pruritis, which the patient did not have. Also the patient did not have any exposure to a new pet, food, lotion or any other allergen or medication that could cause an allergic type reaction. \n",
        "The patient also does not have any history of autoimmune disease or any reaction similar to this in the past\n",
        "It is more likely that the etiology is kinin-related where angioedema results from generation of bradykinin and complement-derived mediators that increase vascular permeability since there is no urticaria or pruritis. \n",
        "The most likely cause is the Altace (ACEI) that the patient has been taking caused an increase in bradykinin since it decreases angiotensin 2 which degrades bradykinin. \n",
        "Bradykinin can then interact with vascular receptors increasing vasodilation, vascular permeability, increased cGMP and release of nitric oxide. \n",
        "This reaction occurs in .1-7% of patients treated with an ACEI and it typically involves the mouth, lips, tounge, larynx, pharynx and sublottic tissues. \n",
        "Half of these cases usually occur within a week of starting the ACEI but can occur years later. \n",
        "This is a class specific reaction not a drug specific and ARBs can cause the same reaction even though these drugs don’t effect the kinin metabolism. \n",
        "50% of patients with angioedema due to an ARB also had an ACEI induced angioedema (Cicardi, M, Zingale, LC, Bergamschini L, Agostoni, A. Angioedema associated with agniotensin-converting enzyme inhibitor use: outcome after switching to a different treatment. Arch Intern Med 2004; 164:910). \n",
        "Deficiency of C1 inhibitor can cause angioedema since levels of complement are reduced and cause increased bradykinin. This can be due to lack of C1 INH or adequate amounts of nonfunctional C1 INH. \n",
        "Other causes of angioedema include aspirin and NSAIDs since inhibition of cox and enzyme pathyway increases formation of pro-inflammatory leukotrienes.\n",
        "Other possibilities in the differential of causes of swelling include cellulitis, autoimmune conditions including SLE, polymyositis, dermatomyositis and sjorgren’s syndrome. \n",
        "Hypothyroidism can cuase puffiness of face and lips, hyperthyroidism can cause an infiltrative dermopathy, superior vena cava syndrome and tumors can cause venous engorgement and swelling. \n",
        "It is not likely one of these etiologies since the patient is on\n",
        "\n",
        "an ACEI and the swelling is restricted only to her tongue and throat typical of ACEI angioedema.\n",
        "'''\n",
        "text1= NER(raw_text)\n",
        "for word in text1.ents:\n",
        "    print(word.text,word.label_)"
      ],
      "metadata": {
        "colab": {
          "base_uri": "https://localhost:8080/"
        },
        "id": "GQfMRbtPSqTZ",
        "outputId": "f7caefb1-800f-40ff-bc27-4e4cbb641b2d"
      },
      "execution_count": null,
      "outputs": [
        {
          "output_type": "stream",
          "name": "stdout",
          "text": [
            "tongue TISSUE\n",
            "inner cheek TISSUE\n",
            "C1 AMINO_ACID\n",
            "Laryngeal edema PATHOLOGICAL_FORMATION\n",
            "peritonsilar abscess PATHOLOGICAL_FORMATION\n",
            "pharyngeal foreign PATHOLOGICAL_FORMATION\n",
            "patient ORGANISM\n",
            "edema PATHOLOGICAL_FORMATION\n",
            "mast cell CELL\n",
            "vascular MULTI_TISSUE_STRUCTURE\n",
            "mast cell CELL\n",
            "mast cell CELL\n",
            "mast cell CELL\n",
            "opiates SIMPLE_CHEMICAL\n",
            "patient ORGANISM\n",
            "patient ORGANISM\n",
            "patient ORGANISM\n",
            "bradykinin GENE_OR_GENE_PRODUCT\n",
            "complement-derived GENE_OR_GENE_PRODUCT\n",
            "vascular MULTI_TISSUE_STRUCTURE\n",
            "Altace SIMPLE_CHEMICAL\n",
            "patient ORGANISM\n",
            "bradykinin CELL\n",
            "angiotensin 2 GENE_OR_GENE_PRODUCT\n",
            "bradykinin GENE_OR_GENE_PRODUCT\n",
            "Bradykinin GENE_OR_GENE_PRODUCT\n",
            "vascular MULTI_TISSUE_STRUCTURE\n",
            "vascular MULTI_TISSUE_STRUCTURE\n",
            "cGMP SIMPLE_CHEMICAL\n",
            "nitric oxide SIMPLE_CHEMICAL\n",
            "patients ORGANISM\n",
            "lips ORGANISM_SUBDIVISION\n",
            "larynx ORGAN\n",
            "pharynx ORGAN\n",
            "ARBs GENE_OR_GENE_PRODUCT\n",
            "kinin GENE_OR_GENE_PRODUCT\n",
            "patients ORGANISM\n",
            "C1 AMINO_ACID\n",
            "bradykinin GENE_OR_GENE_PRODUCT\n",
            "C1 INH ORGANISM_SUBSTANCE\n",
            "C1 INH ORGANISM_SUBSTANCE\n",
            "aspirin SIMPLE_CHEMICAL\n",
            "lips ORGANISM_SUBDIVISION\n",
            "vena cava MULTI_TISSUE_STRUCTURE\n",
            "tumors CANCER\n",
            "venous engorgement MULTI_TISSUE_STRUCTURE\n",
            "patient ORGANISM\n",
            "tongue TISSUE\n"
          ]
        }
      ]
    },
    {
      "cell_type": "code",
      "source": [
        "displacy.render(text1,style=\"ent\",jupyter=True)"
      ],
      "metadata": {
        "colab": {
          "base_uri": "https://localhost:8080/",
          "height": 1000
        },
        "id": "0l-TgGm2SqIm",
        "outputId": "eecc6574-9f91-4b96-e692-460b36c84d22"
      },
      "execution_count": null,
      "outputs": [
        {
          "output_type": "display_data",
          "data": {
            "text/plain": [
              "<IPython.core.display.HTML object>"
            ],
            "text/html": [
              "<span class=\"tex2jax_ignore\"><div class=\"entities\" style=\"line-height: 2.5; direction: ltr\">77 yo woman presents with significant angioedema in left side of \n",
              "<mark class=\"entity\" style=\"background: #ddd; padding: 0.45em 0.6em; margin: 0 0.25em; line-height: 1; border-radius: 0.35em;\">\n",
              "    tongue\n",
              "    <span style=\"font-size: 0.8em; font-weight: bold; line-height: 1; border-radius: 0.35em; vertical-align: middle; margin-left: 0.5rem\">TISSUE</span>\n",
              "</mark>\n",
              " and \n",
              "<mark class=\"entity\" style=\"background: #ddd; padding: 0.45em 0.6em; margin: 0 0.25em; line-height: 1; border-radius: 0.35em;\">\n",
              "    inner cheek\n",
              "    <span style=\"font-size: 0.8em; font-weight: bold; line-height: 1; border-radius: 0.35em; vertical-align: middle; margin-left: 0.5rem\">TISSUE</span>\n",
              "</mark>\n",
              ". </br>Possible causes of angioedema include allergic anaphylaxis reaction, drug induced, allergic contact dermatitis, viral infection, drug induced, or a \n",
              "<mark class=\"entity\" style=\"background: #ddd; padding: 0.45em 0.6em; margin: 0 0.25em; line-height: 1; border-radius: 0.35em;\">\n",
              "    C1\n",
              "    <span style=\"font-size: 0.8em; font-weight: bold; line-height: 1; border-radius: 0.35em; vertical-align: middle; margin-left: 0.5rem\">AMINO_ACID</span>\n",
              "</mark>\n",
              " inhibitor deficiency disorder acquired or hereditary. </br>\n",
              "<mark class=\"entity\" style=\"background: #ddd; padding: 0.45em 0.6em; margin: 0 0.25em; line-height: 1; border-radius: 0.35em;\">\n",
              "    Laryngeal edema\n",
              "    <span style=\"font-size: 0.8em; font-weight: bold; line-height: 1; border-radius: 0.35em; vertical-align: middle; margin-left: 0.5rem\">PATHOLOGICAL_FORMATION</span>\n",
              "</mark>\n",
              " can also be caused by tonsillitis, \n",
              "<mark class=\"entity\" style=\"background: #ddd; padding: 0.45em 0.6em; margin: 0 0.25em; line-height: 1; border-radius: 0.35em;\">\n",
              "    peritonsilar abscess\n",
              "    <span style=\"font-size: 0.8em; font-weight: bold; line-height: 1; border-radius: 0.35em; vertical-align: middle; margin-left: 0.5rem\">PATHOLOGICAL_FORMATION</span>\n",
              "</mark>\n",
              " or \n",
              "<mark class=\"entity\" style=\"background: #ddd; padding: 0.45em 0.6em; margin: 0 0.25em; line-height: 1; border-radius: 0.35em;\">\n",
              "    pharyngeal foreign\n",
              "    <span style=\"font-size: 0.8em; font-weight: bold; line-height: 1; border-radius: 0.35em; vertical-align: middle; margin-left: 0.5rem\">PATHOLOGICAL_FORMATION</span>\n",
              "</mark>\n",
              " body.</br>It is unlikely that the \n",
              "<mark class=\"entity\" style=\"background: #ddd; padding: 0.45em 0.6em; margin: 0 0.25em; line-height: 1; border-radius: 0.35em;\">\n",
              "    patient\n",
              "    <span style=\"font-size: 0.8em; font-weight: bold; line-height: 1; border-radius: 0.35em; vertical-align: middle; margin-left: 0.5rem\">ORGANISM</span>\n",
              "</mark>\n",
              " has \n",
              "<mark class=\"entity\" style=\"background: #ddd; padding: 0.45em 0.6em; margin: 0 0.25em; line-height: 1; border-radius: 0.35em;\">\n",
              "    edema\n",
              "    <span style=\"font-size: 0.8em; font-weight: bold; line-height: 1; border-radius: 0.35em; vertical-align: middle; margin-left: 0.5rem\">PATHOLOGICAL_FORMATION</span>\n",
              "</mark>\n",
              " caused by abscess or tonsillitis since she does not have any associated fever or other signs of infection and the sudden onset of her swelling also argues against this. </br>It is not likely a foreign body since ENT did not find anything when they scoped her.</br>It is unlikely that it is caused by a \n",
              "<mark class=\"entity\" style=\"background: #ddd; padding: 0.45em 0.6em; margin: 0 0.25em; line-height: 1; border-radius: 0.35em;\">\n",
              "    mast cell\n",
              "    <span style=\"font-size: 0.8em; font-weight: bold; line-height: 1; border-radius: 0.35em; vertical-align: middle; margin-left: 0.5rem\">CELL</span>\n",
              "</mark>\n",
              " mediated etiologigy that increases \n",
              "<mark class=\"entity\" style=\"background: #ddd; padding: 0.45em 0.6em; margin: 0 0.25em; line-height: 1; border-radius: 0.35em;\">\n",
              "    vascular\n",
              "    <span style=\"font-size: 0.8em; font-weight: bold; line-height: 1; border-radius: 0.35em; vertical-align: middle; margin-left: 0.5rem\">MULTI_TISSUE_STRUCTURE</span>\n",
              "</mark>\n",
              " permeability through \n",
              "<mark class=\"entity\" style=\"background: #ddd; padding: 0.45em 0.6em; margin: 0 0.25em; line-height: 1; border-radius: 0.35em;\">\n",
              "    mast cell\n",
              "    <span style=\"font-size: 0.8em; font-weight: bold; line-height: 1; border-radius: 0.35em; vertical-align: middle; margin-left: 0.5rem\">CELL</span>\n",
              "</mark>\n",
              " degranulation and release of inflammatory mediators include allergic angioedema, autoimmune \n",
              "<mark class=\"entity\" style=\"background: #ddd; padding: 0.45em 0.6em; margin: 0 0.25em; line-height: 1; border-radius: 0.35em;\">\n",
              "    mast cell\n",
              "    <span style=\"font-size: 0.8em; font-weight: bold; line-height: 1; border-radius: 0.35em; vertical-align: middle; margin-left: 0.5rem\">CELL</span>\n",
              "</mark>\n",
              " release and direct \n",
              "<mark class=\"entity\" style=\"background: #ddd; padding: 0.45em 0.6em; margin: 0 0.25em; line-height: 1; border-radius: 0.35em;\">\n",
              "    mast cell\n",
              "    <span style=\"font-size: 0.8em; font-weight: bold; line-height: 1; border-radius: 0.35em; vertical-align: middle; margin-left: 0.5rem\">CELL</span>\n",
              "</mark>\n",
              " release caused by medications such as \n",
              "<mark class=\"entity\" style=\"background: #ddd; padding: 0.45em 0.6em; margin: 0 0.25em; line-height: 1; border-radius: 0.35em;\">\n",
              "    opiates\n",
              "    <span style=\"font-size: 0.8em; font-weight: bold; line-height: 1; border-radius: 0.35em; vertical-align: middle; margin-left: 0.5rem\">SIMPLE_CHEMICAL</span>\n",
              "</mark>\n",
              " and radiocontrast media. </br>It is not likely this type of reaction because these etiologies are associated with urticaria and pruritis, which the \n",
              "<mark class=\"entity\" style=\"background: #ddd; padding: 0.45em 0.6em; margin: 0 0.25em; line-height: 1; border-radius: 0.35em;\">\n",
              "    patient\n",
              "    <span style=\"font-size: 0.8em; font-weight: bold; line-height: 1; border-radius: 0.35em; vertical-align: middle; margin-left: 0.5rem\">ORGANISM</span>\n",
              "</mark>\n",
              " did not have. Also the \n",
              "<mark class=\"entity\" style=\"background: #ddd; padding: 0.45em 0.6em; margin: 0 0.25em; line-height: 1; border-radius: 0.35em;\">\n",
              "    patient\n",
              "    <span style=\"font-size: 0.8em; font-weight: bold; line-height: 1; border-radius: 0.35em; vertical-align: middle; margin-left: 0.5rem\">ORGANISM</span>\n",
              "</mark>\n",
              " did not have any exposure to a new pet, food, lotion or any other allergen or medication that could cause an allergic type reaction. </br>The \n",
              "<mark class=\"entity\" style=\"background: #ddd; padding: 0.45em 0.6em; margin: 0 0.25em; line-height: 1; border-radius: 0.35em;\">\n",
              "    patient\n",
              "    <span style=\"font-size: 0.8em; font-weight: bold; line-height: 1; border-radius: 0.35em; vertical-align: middle; margin-left: 0.5rem\">ORGANISM</span>\n",
              "</mark>\n",
              " also does not have any history of autoimmune disease or any reaction similar to this in the past</br>It is more likely that the etiology is kinin-related where angioedema results from generation of \n",
              "<mark class=\"entity\" style=\"background: #ddd; padding: 0.45em 0.6em; margin: 0 0.25em; line-height: 1; border-radius: 0.35em;\">\n",
              "    bradykinin\n",
              "    <span style=\"font-size: 0.8em; font-weight: bold; line-height: 1; border-radius: 0.35em; vertical-align: middle; margin-left: 0.5rem\">GENE_OR_GENE_PRODUCT</span>\n",
              "</mark>\n",
              " and \n",
              "<mark class=\"entity\" style=\"background: #ddd; padding: 0.45em 0.6em; margin: 0 0.25em; line-height: 1; border-radius: 0.35em;\">\n",
              "    complement-derived\n",
              "    <span style=\"font-size: 0.8em; font-weight: bold; line-height: 1; border-radius: 0.35em; vertical-align: middle; margin-left: 0.5rem\">GENE_OR_GENE_PRODUCT</span>\n",
              "</mark>\n",
              " mediators that increase \n",
              "<mark class=\"entity\" style=\"background: #ddd; padding: 0.45em 0.6em; margin: 0 0.25em; line-height: 1; border-radius: 0.35em;\">\n",
              "    vascular\n",
              "    <span style=\"font-size: 0.8em; font-weight: bold; line-height: 1; border-radius: 0.35em; vertical-align: middle; margin-left: 0.5rem\">MULTI_TISSUE_STRUCTURE</span>\n",
              "</mark>\n",
              " permeability since there is no urticaria or pruritis. </br>The most likely cause is the \n",
              "<mark class=\"entity\" style=\"background: #ddd; padding: 0.45em 0.6em; margin: 0 0.25em; line-height: 1; border-radius: 0.35em;\">\n",
              "    Altace\n",
              "    <span style=\"font-size: 0.8em; font-weight: bold; line-height: 1; border-radius: 0.35em; vertical-align: middle; margin-left: 0.5rem\">SIMPLE_CHEMICAL</span>\n",
              "</mark>\n",
              " (ACEI) that the \n",
              "<mark class=\"entity\" style=\"background: #ddd; padding: 0.45em 0.6em; margin: 0 0.25em; line-height: 1; border-radius: 0.35em;\">\n",
              "    patient\n",
              "    <span style=\"font-size: 0.8em; font-weight: bold; line-height: 1; border-radius: 0.35em; vertical-align: middle; margin-left: 0.5rem\">ORGANISM</span>\n",
              "</mark>\n",
              " has been taking caused an increase in \n",
              "<mark class=\"entity\" style=\"background: #ddd; padding: 0.45em 0.6em; margin: 0 0.25em; line-height: 1; border-radius: 0.35em;\">\n",
              "    bradykinin\n",
              "    <span style=\"font-size: 0.8em; font-weight: bold; line-height: 1; border-radius: 0.35em; vertical-align: middle; margin-left: 0.5rem\">CELL</span>\n",
              "</mark>\n",
              " since it decreases \n",
              "<mark class=\"entity\" style=\"background: #ddd; padding: 0.45em 0.6em; margin: 0 0.25em; line-height: 1; border-radius: 0.35em;\">\n",
              "    angiotensin 2\n",
              "    <span style=\"font-size: 0.8em; font-weight: bold; line-height: 1; border-radius: 0.35em; vertical-align: middle; margin-left: 0.5rem\">GENE_OR_GENE_PRODUCT</span>\n",
              "</mark>\n",
              " which degrades \n",
              "<mark class=\"entity\" style=\"background: #ddd; padding: 0.45em 0.6em; margin: 0 0.25em; line-height: 1; border-radius: 0.35em;\">\n",
              "    bradykinin\n",
              "    <span style=\"font-size: 0.8em; font-weight: bold; line-height: 1; border-radius: 0.35em; vertical-align: middle; margin-left: 0.5rem\">GENE_OR_GENE_PRODUCT</span>\n",
              "</mark>\n",
              ". </br>\n",
              "<mark class=\"entity\" style=\"background: #ddd; padding: 0.45em 0.6em; margin: 0 0.25em; line-height: 1; border-radius: 0.35em;\">\n",
              "    Bradykinin\n",
              "    <span style=\"font-size: 0.8em; font-weight: bold; line-height: 1; border-radius: 0.35em; vertical-align: middle; margin-left: 0.5rem\">GENE_OR_GENE_PRODUCT</span>\n",
              "</mark>\n",
              " can then interact with \n",
              "<mark class=\"entity\" style=\"background: #ddd; padding: 0.45em 0.6em; margin: 0 0.25em; line-height: 1; border-radius: 0.35em;\">\n",
              "    vascular\n",
              "    <span style=\"font-size: 0.8em; font-weight: bold; line-height: 1; border-radius: 0.35em; vertical-align: middle; margin-left: 0.5rem\">MULTI_TISSUE_STRUCTURE</span>\n",
              "</mark>\n",
              " receptors increasing vasodilation, \n",
              "<mark class=\"entity\" style=\"background: #ddd; padding: 0.45em 0.6em; margin: 0 0.25em; line-height: 1; border-radius: 0.35em;\">\n",
              "    vascular\n",
              "    <span style=\"font-size: 0.8em; font-weight: bold; line-height: 1; border-radius: 0.35em; vertical-align: middle; margin-left: 0.5rem\">MULTI_TISSUE_STRUCTURE</span>\n",
              "</mark>\n",
              " permeability, increased \n",
              "<mark class=\"entity\" style=\"background: #ddd; padding: 0.45em 0.6em; margin: 0 0.25em; line-height: 1; border-radius: 0.35em;\">\n",
              "    cGMP\n",
              "    <span style=\"font-size: 0.8em; font-weight: bold; line-height: 1; border-radius: 0.35em; vertical-align: middle; margin-left: 0.5rem\">SIMPLE_CHEMICAL</span>\n",
              "</mark>\n",
              " and release of \n",
              "<mark class=\"entity\" style=\"background: #ddd; padding: 0.45em 0.6em; margin: 0 0.25em; line-height: 1; border-radius: 0.35em;\">\n",
              "    nitric oxide\n",
              "    <span style=\"font-size: 0.8em; font-weight: bold; line-height: 1; border-radius: 0.35em; vertical-align: middle; margin-left: 0.5rem\">SIMPLE_CHEMICAL</span>\n",
              "</mark>\n",
              ". </br>This reaction occurs in .1-7% of \n",
              "<mark class=\"entity\" style=\"background: #ddd; padding: 0.45em 0.6em; margin: 0 0.25em; line-height: 1; border-radius: 0.35em;\">\n",
              "    patients\n",
              "    <span style=\"font-size: 0.8em; font-weight: bold; line-height: 1; border-radius: 0.35em; vertical-align: middle; margin-left: 0.5rem\">ORGANISM</span>\n",
              "</mark>\n",
              " treated with an ACEI and it typically involves the mouth, \n",
              "<mark class=\"entity\" style=\"background: #ddd; padding: 0.45em 0.6em; margin: 0 0.25em; line-height: 1; border-radius: 0.35em;\">\n",
              "    lips\n",
              "    <span style=\"font-size: 0.8em; font-weight: bold; line-height: 1; border-radius: 0.35em; vertical-align: middle; margin-left: 0.5rem\">ORGANISM_SUBDIVISION</span>\n",
              "</mark>\n",
              ", tounge, \n",
              "<mark class=\"entity\" style=\"background: #ddd; padding: 0.45em 0.6em; margin: 0 0.25em; line-height: 1; border-radius: 0.35em;\">\n",
              "    larynx\n",
              "    <span style=\"font-size: 0.8em; font-weight: bold; line-height: 1; border-radius: 0.35em; vertical-align: middle; margin-left: 0.5rem\">ORGAN</span>\n",
              "</mark>\n",
              ", \n",
              "<mark class=\"entity\" style=\"background: #ddd; padding: 0.45em 0.6em; margin: 0 0.25em; line-height: 1; border-radius: 0.35em;\">\n",
              "    pharynx\n",
              "    <span style=\"font-size: 0.8em; font-weight: bold; line-height: 1; border-radius: 0.35em; vertical-align: middle; margin-left: 0.5rem\">ORGAN</span>\n",
              "</mark>\n",
              " and sublottic tissues. </br>Half of these cases usually occur within a week of starting the ACEI but can occur years later. </br>This is a class specific reaction not a drug specific and \n",
              "<mark class=\"entity\" style=\"background: #ddd; padding: 0.45em 0.6em; margin: 0 0.25em; line-height: 1; border-radius: 0.35em;\">\n",
              "    ARBs\n",
              "    <span style=\"font-size: 0.8em; font-weight: bold; line-height: 1; border-radius: 0.35em; vertical-align: middle; margin-left: 0.5rem\">GENE_OR_GENE_PRODUCT</span>\n",
              "</mark>\n",
              " can cause the same reaction even though these drugs don’t effect the \n",
              "<mark class=\"entity\" style=\"background: #ddd; padding: 0.45em 0.6em; margin: 0 0.25em; line-height: 1; border-radius: 0.35em;\">\n",
              "    kinin\n",
              "    <span style=\"font-size: 0.8em; font-weight: bold; line-height: 1; border-radius: 0.35em; vertical-align: middle; margin-left: 0.5rem\">GENE_OR_GENE_PRODUCT</span>\n",
              "</mark>\n",
              " metabolism. </br>50% of \n",
              "<mark class=\"entity\" style=\"background: #ddd; padding: 0.45em 0.6em; margin: 0 0.25em; line-height: 1; border-radius: 0.35em;\">\n",
              "    patients\n",
              "    <span style=\"font-size: 0.8em; font-weight: bold; line-height: 1; border-radius: 0.35em; vertical-align: middle; margin-left: 0.5rem\">ORGANISM</span>\n",
              "</mark>\n",
              " with angioedema due to an ARB also had an ACEI induced angioedema (Cicardi, M, Zingale, LC, Bergamschini L, Agostoni, A. Angioedema associated with agniotensin-converting enzyme inhibitor use: outcome after switching to a different treatment. Arch Intern Med 2004; 164:910). </br>Deficiency of \n",
              "<mark class=\"entity\" style=\"background: #ddd; padding: 0.45em 0.6em; margin: 0 0.25em; line-height: 1; border-radius: 0.35em;\">\n",
              "    C1\n",
              "    <span style=\"font-size: 0.8em; font-weight: bold; line-height: 1; border-radius: 0.35em; vertical-align: middle; margin-left: 0.5rem\">AMINO_ACID</span>\n",
              "</mark>\n",
              " inhibitor can cause angioedema since levels of complement are reduced and cause increased \n",
              "<mark class=\"entity\" style=\"background: #ddd; padding: 0.45em 0.6em; margin: 0 0.25em; line-height: 1; border-radius: 0.35em;\">\n",
              "    bradykinin\n",
              "    <span style=\"font-size: 0.8em; font-weight: bold; line-height: 1; border-radius: 0.35em; vertical-align: middle; margin-left: 0.5rem\">GENE_OR_GENE_PRODUCT</span>\n",
              "</mark>\n",
              ". This can be due to lack of \n",
              "<mark class=\"entity\" style=\"background: #ddd; padding: 0.45em 0.6em; margin: 0 0.25em; line-height: 1; border-radius: 0.35em;\">\n",
              "    C1 INH\n",
              "    <span style=\"font-size: 0.8em; font-weight: bold; line-height: 1; border-radius: 0.35em; vertical-align: middle; margin-left: 0.5rem\">ORGANISM_SUBSTANCE</span>\n",
              "</mark>\n",
              " or adequate amounts of nonfunctional \n",
              "<mark class=\"entity\" style=\"background: #ddd; padding: 0.45em 0.6em; margin: 0 0.25em; line-height: 1; border-radius: 0.35em;\">\n",
              "    C1 INH\n",
              "    <span style=\"font-size: 0.8em; font-weight: bold; line-height: 1; border-radius: 0.35em; vertical-align: middle; margin-left: 0.5rem\">ORGANISM_SUBSTANCE</span>\n",
              "</mark>\n",
              ". </br>Other causes of angioedema include \n",
              "<mark class=\"entity\" style=\"background: #ddd; padding: 0.45em 0.6em; margin: 0 0.25em; line-height: 1; border-radius: 0.35em;\">\n",
              "    aspirin\n",
              "    <span style=\"font-size: 0.8em; font-weight: bold; line-height: 1; border-radius: 0.35em; vertical-align: middle; margin-left: 0.5rem\">SIMPLE_CHEMICAL</span>\n",
              "</mark>\n",
              " and NSAIDs since inhibition of cox and enzyme pathyway increases formation of pro-inflammatory leukotrienes.</br>Other possibilities in the differential of causes of swelling include cellulitis, autoimmune conditions including SLE, polymyositis, dermatomyositis and sjorgren’s syndrome. </br>Hypothyroidism can cuase puffiness of face and \n",
              "<mark class=\"entity\" style=\"background: #ddd; padding: 0.45em 0.6em; margin: 0 0.25em; line-height: 1; border-radius: 0.35em;\">\n",
              "    lips\n",
              "    <span style=\"font-size: 0.8em; font-weight: bold; line-height: 1; border-radius: 0.35em; vertical-align: middle; margin-left: 0.5rem\">ORGANISM_SUBDIVISION</span>\n",
              "</mark>\n",
              ", hyperthyroidism can cause an infiltrative dermopathy, superior \n",
              "<mark class=\"entity\" style=\"background: #ddd; padding: 0.45em 0.6em; margin: 0 0.25em; line-height: 1; border-radius: 0.35em;\">\n",
              "    vena cava\n",
              "    <span style=\"font-size: 0.8em; font-weight: bold; line-height: 1; border-radius: 0.35em; vertical-align: middle; margin-left: 0.5rem\">MULTI_TISSUE_STRUCTURE</span>\n",
              "</mark>\n",
              " syndrome and \n",
              "<mark class=\"entity\" style=\"background: #ddd; padding: 0.45em 0.6em; margin: 0 0.25em; line-height: 1; border-radius: 0.35em;\">\n",
              "    tumors\n",
              "    <span style=\"font-size: 0.8em; font-weight: bold; line-height: 1; border-radius: 0.35em; vertical-align: middle; margin-left: 0.5rem\">CANCER</span>\n",
              "</mark>\n",
              " can cause \n",
              "<mark class=\"entity\" style=\"background: #ddd; padding: 0.45em 0.6em; margin: 0 0.25em; line-height: 1; border-radius: 0.35em;\">\n",
              "    venous engorgement\n",
              "    <span style=\"font-size: 0.8em; font-weight: bold; line-height: 1; border-radius: 0.35em; vertical-align: middle; margin-left: 0.5rem\">MULTI_TISSUE_STRUCTURE</span>\n",
              "</mark>\n",
              " and swelling. </br>It is not likely one of these etiologies since the \n",
              "<mark class=\"entity\" style=\"background: #ddd; padding: 0.45em 0.6em; margin: 0 0.25em; line-height: 1; border-radius: 0.35em;\">\n",
              "    patient\n",
              "    <span style=\"font-size: 0.8em; font-weight: bold; line-height: 1; border-radius: 0.35em; vertical-align: middle; margin-left: 0.5rem\">ORGANISM</span>\n",
              "</mark>\n",
              " is on</br></br>an ACEI and the swelling is restricted only to her \n",
              "<mark class=\"entity\" style=\"background: #ddd; padding: 0.45em 0.6em; margin: 0 0.25em; line-height: 1; border-radius: 0.35em;\">\n",
              "    tongue\n",
              "    <span style=\"font-size: 0.8em; font-weight: bold; line-height: 1; border-radius: 0.35em; vertical-align: middle; margin-left: 0.5rem\">TISSUE</span>\n",
              "</mark>\n",
              " and throat typical of ACEI angioedema.</br></div></span>"
            ]
          },
          "metadata": {}
        }
      ]
    },
    {
      "cell_type": "code",
      "source": [],
      "metadata": {
        "id": "Cy0KzcYcQmlm"
      },
      "execution_count": null,
      "outputs": []
    },
    {
      "cell_type": "code",
      "source": [
        "# Plan:\n",
        "\n",
        "raw_text = '''\n",
        "++Swollen tongue:\n",
        "- Give patient corticosteroid to decrease inflammation and to protect against relapse\n",
        "after initial improvement. 4 days of Dexamethasone 10 mg IV tid.\n",
        "- Give patient antihistamine to block inflammation as well. 4 days of\n",
        "Diphenhydramine 25 mg bid.\n",
        "- ENT consult to rule out abscess or foreign object\n",
        "- Check C1 and C4 levels that would be decreased if the patient had C1 inhibitory\n",
        "complement deficiency\n",
        "- TSH level to check for hypo/hyper thyroid\n",
        "- Hold all oral home meds and keep patient NPO until airway swelling is reduced\n",
        "and patient can swallow easily\n",
        "++Asthma/COPD\n",
        "- continue albuterol and ipratropium nebs prn\n",
        "- resume theophylline when patient can take oral meds\n",
        "++DM\n",
        "- Not on oral home meds\n",
        "- Patient is on corticosteroids that increase blood glucose levels, so put patient on\n",
        "sliding scale normal insulin to adjust for high sugars\n",
        "- Resume neurontin for neuropathy when oral meds can be taken\n",
        "++HTN\n",
        "- Continue patient’s BP control with Diltiazem drip 5mg/hour\n",
        "- HOLD altace (ACEI) that is most likely the cause of angioedema\n",
        "- Consider an alternative HTN medication to replace the ACEI. Can’t use a HCTZ\n",
        "because of sulfa allergy. Also has asthma/COPD picture so beta blocker may not work well either.\n",
        "++CAD s/p PCI in 1999\n",
        "- Resume simvastatin and aspirin when patient is able to take oral meds\n",
        "++GERD\n",
        "- famotidine when oral meds are resumed\n",
        "'''\n",
        "text1= NER(raw_text)\n",
        "for word in text1.ents:\n",
        "    print(word.text,word.label_)"
      ],
      "metadata": {
        "colab": {
          "base_uri": "https://localhost:8080/"
        },
        "id": "9xxHbjbZR3as",
        "outputId": "8fe1b970-3f84-449d-f0f7-289b9fbf6b2c"
      },
      "execution_count": null,
      "outputs": [
        {
          "output_type": "stream",
          "name": "stdout",
          "text": [
            "patient ORGANISM\n",
            "Dexamethasone SIMPLE_CHEMICAL\n",
            "patient ORGANISM\n",
            "Diphenhydramine SIMPLE_CHEMICAL\n",
            "C4 CELL\n",
            "patient ORGANISM\n",
            "C1 AMINO_ACID\n",
            "thyroid ORGAN\n",
            "oral ORGANISM_SUBDIVISION\n",
            "patient NPO ORGANISM\n",
            "airway MULTI_TISSUE_STRUCTURE\n",
            "patient ORGANISM\n",
            "albuterol SIMPLE_CHEMICAL\n",
            "ipratropium SIMPLE_CHEMICAL\n",
            "theophylline SIMPLE_CHEMICAL\n",
            "patient ORGANISM\n",
            "oral ORGANISM_SUBDIVISION\n",
            "oral ORGANISM_SUBDIVISION\n",
            "corticosteroids SIMPLE_CHEMICAL\n",
            "blood glucose ORGANISM_SUBSTANCE\n",
            "patient ORGANISM\n",
            "insulin GENE_OR_GENE_PRODUCT\n",
            "neurontin SIMPLE_CHEMICAL\n",
            "oral ORGANISM_SUBDIVISION\n",
            "patient ORGANISM\n",
            "BP SIMPLE_CHEMICAL\n",
            "Diltiazem SIMPLE_CHEMICAL\n",
            "HCTZ SIMPLE_CHEMICAL\n",
            "sulfa SIMPLE_CHEMICAL\n",
            "simvastatin SIMPLE_CHEMICAL\n",
            "aspirin SIMPLE_CHEMICAL\n",
            "patient ORGANISM\n",
            "oral ORGANISM_SUBDIVISION\n",
            "oral ORGANISM_SUBDIVISION\n"
          ]
        }
      ]
    },
    {
      "cell_type": "code",
      "source": [
        "displacy.render(text1,style=\"ent\",jupyter=True)"
      ],
      "metadata": {
        "colab": {
          "base_uri": "https://localhost:8080/",
          "height": 1000
        },
        "id": "kngvrDVXUHgn",
        "outputId": "0f9857ef-519b-47b6-a78d-bfdc464d1714"
      },
      "execution_count": null,
      "outputs": [
        {
          "output_type": "display_data",
          "data": {
            "text/plain": [
              "<IPython.core.display.HTML object>"
            ],
            "text/html": [
              "<span class=\"tex2jax_ignore\"><div class=\"entities\" style=\"line-height: 2.5; direction: ltr\"></br>++Swollen tongue:</br>- Give \n",
              "<mark class=\"entity\" style=\"background: #ddd; padding: 0.45em 0.6em; margin: 0 0.25em; line-height: 1; border-radius: 0.35em;\">\n",
              "    patient\n",
              "    <span style=\"font-size: 0.8em; font-weight: bold; line-height: 1; border-radius: 0.35em; vertical-align: middle; margin-left: 0.5rem\">ORGANISM</span>\n",
              "</mark>\n",
              " corticosteroid to decrease inflammation and to protect against relapse</br>after initial improvement. 4 days of \n",
              "<mark class=\"entity\" style=\"background: #ddd; padding: 0.45em 0.6em; margin: 0 0.25em; line-height: 1; border-radius: 0.35em;\">\n",
              "    Dexamethasone\n",
              "    <span style=\"font-size: 0.8em; font-weight: bold; line-height: 1; border-radius: 0.35em; vertical-align: middle; margin-left: 0.5rem\">SIMPLE_CHEMICAL</span>\n",
              "</mark>\n",
              " 10 mg IV tid.</br>- Give \n",
              "<mark class=\"entity\" style=\"background: #ddd; padding: 0.45em 0.6em; margin: 0 0.25em; line-height: 1; border-radius: 0.35em;\">\n",
              "    patient\n",
              "    <span style=\"font-size: 0.8em; font-weight: bold; line-height: 1; border-radius: 0.35em; vertical-align: middle; margin-left: 0.5rem\">ORGANISM</span>\n",
              "</mark>\n",
              " antihistamine to block inflammation as well. 4 days of</br>\n",
              "<mark class=\"entity\" style=\"background: #ddd; padding: 0.45em 0.6em; margin: 0 0.25em; line-height: 1; border-radius: 0.35em;\">\n",
              "    Diphenhydramine\n",
              "    <span style=\"font-size: 0.8em; font-weight: bold; line-height: 1; border-radius: 0.35em; vertical-align: middle; margin-left: 0.5rem\">SIMPLE_CHEMICAL</span>\n",
              "</mark>\n",
              " 25 mg bid.</br>- ENT consult to rule out abscess or foreign object</br>- Check C1 and \n",
              "<mark class=\"entity\" style=\"background: #ddd; padding: 0.45em 0.6em; margin: 0 0.25em; line-height: 1; border-radius: 0.35em;\">\n",
              "    C4\n",
              "    <span style=\"font-size: 0.8em; font-weight: bold; line-height: 1; border-radius: 0.35em; vertical-align: middle; margin-left: 0.5rem\">CELL</span>\n",
              "</mark>\n",
              " levels that would be decreased if the \n",
              "<mark class=\"entity\" style=\"background: #ddd; padding: 0.45em 0.6em; margin: 0 0.25em; line-height: 1; border-radius: 0.35em;\">\n",
              "    patient\n",
              "    <span style=\"font-size: 0.8em; font-weight: bold; line-height: 1; border-radius: 0.35em; vertical-align: middle; margin-left: 0.5rem\">ORGANISM</span>\n",
              "</mark>\n",
              " had \n",
              "<mark class=\"entity\" style=\"background: #ddd; padding: 0.45em 0.6em; margin: 0 0.25em; line-height: 1; border-radius: 0.35em;\">\n",
              "    C1\n",
              "    <span style=\"font-size: 0.8em; font-weight: bold; line-height: 1; border-radius: 0.35em; vertical-align: middle; margin-left: 0.5rem\">AMINO_ACID</span>\n",
              "</mark>\n",
              " inhibitory</br>complement deficiency</br>- TSH level to check for hypo/hyper \n",
              "<mark class=\"entity\" style=\"background: #ddd; padding: 0.45em 0.6em; margin: 0 0.25em; line-height: 1; border-radius: 0.35em;\">\n",
              "    thyroid\n",
              "    <span style=\"font-size: 0.8em; font-weight: bold; line-height: 1; border-radius: 0.35em; vertical-align: middle; margin-left: 0.5rem\">ORGAN</span>\n",
              "</mark>\n",
              "</br>- Hold all \n",
              "<mark class=\"entity\" style=\"background: #ddd; padding: 0.45em 0.6em; margin: 0 0.25em; line-height: 1; border-radius: 0.35em;\">\n",
              "    oral\n",
              "    <span style=\"font-size: 0.8em; font-weight: bold; line-height: 1; border-radius: 0.35em; vertical-align: middle; margin-left: 0.5rem\">ORGANISM_SUBDIVISION</span>\n",
              "</mark>\n",
              " home meds and keep \n",
              "<mark class=\"entity\" style=\"background: #ddd; padding: 0.45em 0.6em; margin: 0 0.25em; line-height: 1; border-radius: 0.35em;\">\n",
              "    patient NPO\n",
              "    <span style=\"font-size: 0.8em; font-weight: bold; line-height: 1; border-radius: 0.35em; vertical-align: middle; margin-left: 0.5rem\">ORGANISM</span>\n",
              "</mark>\n",
              " until \n",
              "<mark class=\"entity\" style=\"background: #ddd; padding: 0.45em 0.6em; margin: 0 0.25em; line-height: 1; border-radius: 0.35em;\">\n",
              "    airway\n",
              "    <span style=\"font-size: 0.8em; font-weight: bold; line-height: 1; border-radius: 0.35em; vertical-align: middle; margin-left: 0.5rem\">MULTI_TISSUE_STRUCTURE</span>\n",
              "</mark>\n",
              " swelling is reduced</br>and \n",
              "<mark class=\"entity\" style=\"background: #ddd; padding: 0.45em 0.6em; margin: 0 0.25em; line-height: 1; border-radius: 0.35em;\">\n",
              "    patient\n",
              "    <span style=\"font-size: 0.8em; font-weight: bold; line-height: 1; border-radius: 0.35em; vertical-align: middle; margin-left: 0.5rem\">ORGANISM</span>\n",
              "</mark>\n",
              " can swallow easily</br>++Asthma/COPD</br>- continue \n",
              "<mark class=\"entity\" style=\"background: #ddd; padding: 0.45em 0.6em; margin: 0 0.25em; line-height: 1; border-radius: 0.35em;\">\n",
              "    albuterol\n",
              "    <span style=\"font-size: 0.8em; font-weight: bold; line-height: 1; border-radius: 0.35em; vertical-align: middle; margin-left: 0.5rem\">SIMPLE_CHEMICAL</span>\n",
              "</mark>\n",
              " and \n",
              "<mark class=\"entity\" style=\"background: #ddd; padding: 0.45em 0.6em; margin: 0 0.25em; line-height: 1; border-radius: 0.35em;\">\n",
              "    ipratropium\n",
              "    <span style=\"font-size: 0.8em; font-weight: bold; line-height: 1; border-radius: 0.35em; vertical-align: middle; margin-left: 0.5rem\">SIMPLE_CHEMICAL</span>\n",
              "</mark>\n",
              " nebs prn</br>- resume \n",
              "<mark class=\"entity\" style=\"background: #ddd; padding: 0.45em 0.6em; margin: 0 0.25em; line-height: 1; border-radius: 0.35em;\">\n",
              "    theophylline\n",
              "    <span style=\"font-size: 0.8em; font-weight: bold; line-height: 1; border-radius: 0.35em; vertical-align: middle; margin-left: 0.5rem\">SIMPLE_CHEMICAL</span>\n",
              "</mark>\n",
              " when \n",
              "<mark class=\"entity\" style=\"background: #ddd; padding: 0.45em 0.6em; margin: 0 0.25em; line-height: 1; border-radius: 0.35em;\">\n",
              "    patient\n",
              "    <span style=\"font-size: 0.8em; font-weight: bold; line-height: 1; border-radius: 0.35em; vertical-align: middle; margin-left: 0.5rem\">ORGANISM</span>\n",
              "</mark>\n",
              " can take \n",
              "<mark class=\"entity\" style=\"background: #ddd; padding: 0.45em 0.6em; margin: 0 0.25em; line-height: 1; border-radius: 0.35em;\">\n",
              "    oral\n",
              "    <span style=\"font-size: 0.8em; font-weight: bold; line-height: 1; border-radius: 0.35em; vertical-align: middle; margin-left: 0.5rem\">ORGANISM_SUBDIVISION</span>\n",
              "</mark>\n",
              " meds</br>++DM</br>- Not on \n",
              "<mark class=\"entity\" style=\"background: #ddd; padding: 0.45em 0.6em; margin: 0 0.25em; line-height: 1; border-radius: 0.35em;\">\n",
              "    oral\n",
              "    <span style=\"font-size: 0.8em; font-weight: bold; line-height: 1; border-radius: 0.35em; vertical-align: middle; margin-left: 0.5rem\">ORGANISM_SUBDIVISION</span>\n",
              "</mark>\n",
              " home meds</br>- Patient is on \n",
              "<mark class=\"entity\" style=\"background: #ddd; padding: 0.45em 0.6em; margin: 0 0.25em; line-height: 1; border-radius: 0.35em;\">\n",
              "    corticosteroids\n",
              "    <span style=\"font-size: 0.8em; font-weight: bold; line-height: 1; border-radius: 0.35em; vertical-align: middle; margin-left: 0.5rem\">SIMPLE_CHEMICAL</span>\n",
              "</mark>\n",
              " that increase \n",
              "<mark class=\"entity\" style=\"background: #ddd; padding: 0.45em 0.6em; margin: 0 0.25em; line-height: 1; border-radius: 0.35em;\">\n",
              "    blood glucose\n",
              "    <span style=\"font-size: 0.8em; font-weight: bold; line-height: 1; border-radius: 0.35em; vertical-align: middle; margin-left: 0.5rem\">ORGANISM_SUBSTANCE</span>\n",
              "</mark>\n",
              " levels, so put \n",
              "<mark class=\"entity\" style=\"background: #ddd; padding: 0.45em 0.6em; margin: 0 0.25em; line-height: 1; border-radius: 0.35em;\">\n",
              "    patient\n",
              "    <span style=\"font-size: 0.8em; font-weight: bold; line-height: 1; border-radius: 0.35em; vertical-align: middle; margin-left: 0.5rem\">ORGANISM</span>\n",
              "</mark>\n",
              " on</br>sliding scale normal \n",
              "<mark class=\"entity\" style=\"background: #ddd; padding: 0.45em 0.6em; margin: 0 0.25em; line-height: 1; border-radius: 0.35em;\">\n",
              "    insulin\n",
              "    <span style=\"font-size: 0.8em; font-weight: bold; line-height: 1; border-radius: 0.35em; vertical-align: middle; margin-left: 0.5rem\">GENE_OR_GENE_PRODUCT</span>\n",
              "</mark>\n",
              " to adjust for high sugars</br>- Resume \n",
              "<mark class=\"entity\" style=\"background: #ddd; padding: 0.45em 0.6em; margin: 0 0.25em; line-height: 1; border-radius: 0.35em;\">\n",
              "    neurontin\n",
              "    <span style=\"font-size: 0.8em; font-weight: bold; line-height: 1; border-radius: 0.35em; vertical-align: middle; margin-left: 0.5rem\">SIMPLE_CHEMICAL</span>\n",
              "</mark>\n",
              " for neuropathy when \n",
              "<mark class=\"entity\" style=\"background: #ddd; padding: 0.45em 0.6em; margin: 0 0.25em; line-height: 1; border-radius: 0.35em;\">\n",
              "    oral\n",
              "    <span style=\"font-size: 0.8em; font-weight: bold; line-height: 1; border-radius: 0.35em; vertical-align: middle; margin-left: 0.5rem\">ORGANISM_SUBDIVISION</span>\n",
              "</mark>\n",
              " meds can be taken</br>++HTN</br>- Continue \n",
              "<mark class=\"entity\" style=\"background: #ddd; padding: 0.45em 0.6em; margin: 0 0.25em; line-height: 1; border-radius: 0.35em;\">\n",
              "    patient\n",
              "    <span style=\"font-size: 0.8em; font-weight: bold; line-height: 1; border-radius: 0.35em; vertical-align: middle; margin-left: 0.5rem\">ORGANISM</span>\n",
              "</mark>\n",
              "’s \n",
              "<mark class=\"entity\" style=\"background: #ddd; padding: 0.45em 0.6em; margin: 0 0.25em; line-height: 1; border-radius: 0.35em;\">\n",
              "    BP\n",
              "    <span style=\"font-size: 0.8em; font-weight: bold; line-height: 1; border-radius: 0.35em; vertical-align: middle; margin-left: 0.5rem\">SIMPLE_CHEMICAL</span>\n",
              "</mark>\n",
              " control with \n",
              "<mark class=\"entity\" style=\"background: #ddd; padding: 0.45em 0.6em; margin: 0 0.25em; line-height: 1; border-radius: 0.35em;\">\n",
              "    Diltiazem\n",
              "    <span style=\"font-size: 0.8em; font-weight: bold; line-height: 1; border-radius: 0.35em; vertical-align: middle; margin-left: 0.5rem\">SIMPLE_CHEMICAL</span>\n",
              "</mark>\n",
              " drip 5mg/hour</br>- HOLD altace (ACEI) that is most likely the cause of angioedema</br>- Consider an alternative HTN medication to replace the ACEI. Can’t use a \n",
              "<mark class=\"entity\" style=\"background: #ddd; padding: 0.45em 0.6em; margin: 0 0.25em; line-height: 1; border-radius: 0.35em;\">\n",
              "    HCTZ\n",
              "    <span style=\"font-size: 0.8em; font-weight: bold; line-height: 1; border-radius: 0.35em; vertical-align: middle; margin-left: 0.5rem\">SIMPLE_CHEMICAL</span>\n",
              "</mark>\n",
              "</br>because of \n",
              "<mark class=\"entity\" style=\"background: #ddd; padding: 0.45em 0.6em; margin: 0 0.25em; line-height: 1; border-radius: 0.35em;\">\n",
              "    sulfa\n",
              "    <span style=\"font-size: 0.8em; font-weight: bold; line-height: 1; border-radius: 0.35em; vertical-align: middle; margin-left: 0.5rem\">SIMPLE_CHEMICAL</span>\n",
              "</mark>\n",
              " allergy. Also has asthma/COPD picture so beta blocker may not work well either.</br>++CAD s/p PCI in 1999</br>- Resume \n",
              "<mark class=\"entity\" style=\"background: #ddd; padding: 0.45em 0.6em; margin: 0 0.25em; line-height: 1; border-radius: 0.35em;\">\n",
              "    simvastatin\n",
              "    <span style=\"font-size: 0.8em; font-weight: bold; line-height: 1; border-radius: 0.35em; vertical-align: middle; margin-left: 0.5rem\">SIMPLE_CHEMICAL</span>\n",
              "</mark>\n",
              " and \n",
              "<mark class=\"entity\" style=\"background: #ddd; padding: 0.45em 0.6em; margin: 0 0.25em; line-height: 1; border-radius: 0.35em;\">\n",
              "    aspirin\n",
              "    <span style=\"font-size: 0.8em; font-weight: bold; line-height: 1; border-radius: 0.35em; vertical-align: middle; margin-left: 0.5rem\">SIMPLE_CHEMICAL</span>\n",
              "</mark>\n",
              " when \n",
              "<mark class=\"entity\" style=\"background: #ddd; padding: 0.45em 0.6em; margin: 0 0.25em; line-height: 1; border-radius: 0.35em;\">\n",
              "    patient\n",
              "    <span style=\"font-size: 0.8em; font-weight: bold; line-height: 1; border-radius: 0.35em; vertical-align: middle; margin-left: 0.5rem\">ORGANISM</span>\n",
              "</mark>\n",
              " is able to take \n",
              "<mark class=\"entity\" style=\"background: #ddd; padding: 0.45em 0.6em; margin: 0 0.25em; line-height: 1; border-radius: 0.35em;\">\n",
              "    oral\n",
              "    <span style=\"font-size: 0.8em; font-weight: bold; line-height: 1; border-radius: 0.35em; vertical-align: middle; margin-left: 0.5rem\">ORGANISM_SUBDIVISION</span>\n",
              "</mark>\n",
              " meds</br>++GERD</br>- famotidine when \n",
              "<mark class=\"entity\" style=\"background: #ddd; padding: 0.45em 0.6em; margin: 0 0.25em; line-height: 1; border-radius: 0.35em;\">\n",
              "    oral\n",
              "    <span style=\"font-size: 0.8em; font-weight: bold; line-height: 1; border-radius: 0.35em; vertical-align: middle; margin-left: 0.5rem\">ORGANISM_SUBDIVISION</span>\n",
              "</mark>\n",
              " meds are resumed</br></div></span>"
            ]
          },
          "metadata": {}
        }
      ]
    },
    {
      "cell_type": "code",
      "source": [],
      "metadata": {
        "id": "2cEH7N9JUH7M"
      },
      "execution_count": null,
      "outputs": []
    },
    {
      "cell_type": "markdown",
      "source": [
        "## Report 2\n",
        "\n",
        "Reports: https://www.lumen.luc.edu/lumen/meded/ipm/ipm1/homepage/MedHistory_Example.pdf"
      ],
      "metadata": {
        "id": "-FrZWJqHU7h8"
      }
    },
    {
      "cell_type": "code",
      "source": [
        "!wget https://www.lumen.luc.edu/lumen/meded/ipm/ipm1/homepage/MedHistory_Example.pdf"
      ],
      "metadata": {
        "colab": {
          "base_uri": "https://localhost:8080/"
        },
        "id": "_B1Fr0tVWDTY",
        "outputId": "75844c0f-49e6-4c1b-80f8-9a29574e2293"
      },
      "execution_count": null,
      "outputs": [
        {
          "output_type": "stream",
          "name": "stdout",
          "text": [
            "--2022-09-20 10:01:18--  https://www.lumen.luc.edu/lumen/meded/ipm/ipm1/homepage/MedHistory_Example.pdf\n",
            "Resolving www.lumen.luc.edu (www.lumen.luc.edu)... 147.126.239.16\n",
            "Connecting to www.lumen.luc.edu (www.lumen.luc.edu)|147.126.239.16|:443... connected.\n",
            "HTTP request sent, awaiting response... 200 OK\n",
            "Length: 279667 (273K) [application/pdf]\n",
            "Saving to: ‘MedHistory_Example.pdf’\n",
            "\n",
            "MedHistory_Example. 100%[===================>] 273.11K  1.37MB/s    in 0.2s    \n",
            "\n",
            "2022-09-20 10:01:18 (1.37 MB/s) - ‘MedHistory_Example.pdf’ saved [279667/279667]\n",
            "\n"
          ]
        }
      ]
    },
    {
      "cell_type": "code",
      "source": [
        "!pip install pdfplumber"
      ],
      "metadata": {
        "colab": {
          "base_uri": "https://localhost:8080/",
          "height": 538
        },
        "id": "r5t5YyleV5Pe",
        "outputId": "26c06900-1743-4ec0-b6f3-ec6105c3e339"
      },
      "execution_count": null,
      "outputs": [
        {
          "output_type": "stream",
          "name": "stdout",
          "text": [
            "Looking in indexes: https://pypi.org/simple, https://us-python.pkg.dev/colab-wheels/public/simple/\n",
            "Collecting pdfplumber\n",
            "  Downloading pdfplumber-0.7.4-py3-none-any.whl (40 kB)\n",
            "\u001b[K     |████████████████████████████████| 40 kB 3.2 MB/s \n",
            "\u001b[?25hCollecting Wand>=0.6.7\n",
            "  Downloading Wand-0.6.10-py2.py3-none-any.whl (142 kB)\n",
            "\u001b[K     |████████████████████████████████| 142 kB 6.5 MB/s \n",
            "\u001b[?25hCollecting pdfminer.six==20220524\n",
            "  Downloading pdfminer.six-20220524-py3-none-any.whl (5.6 MB)\n",
            "\u001b[K     |████████████████████████████████| 5.6 MB 43.5 MB/s \n",
            "\u001b[?25hCollecting Pillow>=9.1\n",
            "  Downloading Pillow-9.2.0-cp37-cp37m-manylinux_2_17_x86_64.manylinux2014_x86_64.whl (3.1 MB)\n",
            "\u001b[K     |████████████████████████████████| 3.1 MB 41.1 MB/s \n",
            "\u001b[?25hRequirement already satisfied: charset-normalizer>=2.0.0 in /usr/local/lib/python3.7/dist-packages (from pdfminer.six==20220524->pdfplumber) (2.1.1)\n",
            "Collecting cryptography>=36.0.0\n",
            "  Downloading cryptography-38.0.1-cp36-abi3-manylinux_2_24_x86_64.whl (4.0 MB)\n",
            "\u001b[K     |████████████████████████████████| 4.0 MB 42.3 MB/s \n",
            "\u001b[?25hRequirement already satisfied: cffi>=1.12 in /usr/local/lib/python3.7/dist-packages (from cryptography>=36.0.0->pdfminer.six==20220524->pdfplumber) (1.15.1)\n",
            "Requirement already satisfied: pycparser in /usr/local/lib/python3.7/dist-packages (from cffi>=1.12->cryptography>=36.0.0->pdfminer.six==20220524->pdfplumber) (2.21)\n",
            "Installing collected packages: cryptography, Wand, Pillow, pdfminer.six, pdfplumber\n",
            "  Attempting uninstall: Pillow\n",
            "    Found existing installation: Pillow 7.1.2\n",
            "    Uninstalling Pillow-7.1.2:\n",
            "      Successfully uninstalled Pillow-7.1.2\n",
            "Successfully installed Pillow-9.2.0 Wand-0.6.10 cryptography-38.0.1 pdfminer.six-20220524 pdfplumber-0.7.4\n"
          ]
        },
        {
          "output_type": "display_data",
          "data": {
            "application/vnd.colab-display-data+json": {
              "pip_warning": {
                "packages": [
                  "PIL"
                ]
              }
            }
          },
          "metadata": {}
        }
      ]
    },
    {
      "cell_type": "code",
      "source": [
        "import pdfplumber\n",
        "def get_text(filepath):\n",
        "    tables = []\n",
        "    pdf = pdfplumber.open(filepath)\n",
        "    pages = pdf.pages\n",
        "    for i, page in enumerate(pages):\n",
        "        text = page.extract_text()\n",
        "        text1= NER(text)\n",
        "        # for word in text1.ents:\n",
        "            # print(word.text,word.label_)\n",
        "        displacy.render(text1,style=\"ent\",jupyter=True)\n",
        "        break\n",
        "get_text('MedHistory_Example.pdf')"
      ],
      "metadata": {
        "colab": {
          "base_uri": "https://localhost:8080/",
          "height": 1000
        },
        "id": "Gbj99lLmU9Tx",
        "outputId": "ebacb4d8-89bf-412e-c2b2-7dbd6dda2cfc"
      },
      "execution_count": null,
      "outputs": [
        {
          "output_type": "display_data",
          "data": {
            "text/plain": [
              "<IPython.core.display.HTML object>"
            ],
            "text/html": [
              "<span class=\"tex2jax_ignore\"><div class=\"entities\" style=\"line-height: 2.5; direction: ltr\">The Medical History – Written Example </br>Please refer to this written example when you write-up all of your future medical histories in </br>\n",
              "<mark class=\"entity\" style=\"background: #ddd; padding: 0.45em 0.6em; margin: 0 0.25em; line-height: 1; border-radius: 0.35em;\">\n",
              "    PCM-1\n",
              "    <span style=\"font-size: 0.8em; font-weight: bold; line-height: 1; border-radius: 0.35em; vertical-align: middle; margin-left: 0.5rem\">GENE_OR_GENE_PRODUCT</span>\n",
              "</mark>\n",
              ".  </br> </br> </br>Chief Concern: Chest pain for 1 month </br> </br>HPI: Mr. PH is a 52 y/o accountant with hypercholesterolemia and polycythemia \n",
              "<mark class=\"entity\" style=\"background: #ddd; padding: 0.45em 0.6em; margin: 0 0.25em; line-height: 1; border-radius: 0.35em;\">\n",
              "    vera\n",
              "    <span style=\"font-size: 0.8em; font-weight: bold; line-height: 1; border-radius: 0.35em; vertical-align: middle; margin-left: 0.5rem\">MULTI_TISSUE_STRUCTURE</span>\n",
              "</mark>\n",
              " who has </br>been in relatively good health (except for problem #2 below) until one month ago when he </br>noticed chest tightness with exertion. The \n",
              "<mark class=\"entity\" style=\"background: #ddd; padding: 0.45em 0.6em; margin: 0 0.25em; line-height: 1; border-radius: 0.35em;\">\n",
              "    patient\n",
              "    <span style=\"font-size: 0.8em; font-weight: bold; line-height: 1; border-radius: 0.35em; vertical-align: middle; margin-left: 0.5rem\">ORGANISM</span>\n",
              "</mark>\n",
              " decided to lose weight through exercising </br>and began to run. When running greater than six to seven blocks, the \n",
              "<mark class=\"entity\" style=\"background: #ddd; padding: 0.45em 0.6em; margin: 0 0.25em; line-height: 1; border-radius: 0.35em;\">\n",
              "    patient\n",
              "    <span style=\"font-size: 0.8em; font-weight: bold; line-height: 1; border-radius: 0.35em; vertical-align: middle; margin-left: 0.5rem\">ORGANISM</span>\n",
              "</mark>\n",
              " developed a tight </br>feeling in his chest that subsided in approximately five minutes after he stopped running. </br>Initially, the feeling was mild, occurred only with the running and was associated with no other </br>symptoms. It did not radiate. On the night prior to admission, while watching TV, he had the </br>same pain, except this time it was of increased intensity (10/10), lasted 20 minutes, and was </br>associated with shortness of breath and a brief period of \n",
              "<mark class=\"entity\" style=\"background: #ddd; padding: 0.45em 0.6em; margin: 0 0.25em; line-height: 1; border-radius: 0.35em;\">\n",
              "    profuse\n",
              "    <span style=\"font-size: 0.8em; font-weight: bold; line-height: 1; border-radius: 0.35em; vertical-align: middle; margin-left: 0.5rem\">IMMATERIAL_ANATOMICAL_ENTITY</span>\n",
              "</mark>\n",
              " diaphoresis. Regarding risk </br>factors for \n",
              "<mark class=\"entity\" style=\"background: #ddd; padding: 0.45em 0.6em; margin: 0 0.25em; line-height: 1; border-radius: 0.35em;\">\n",
              "    coronary artery\n",
              "    <span style=\"font-size: 0.8em; font-weight: bold; line-height: 1; border-radius: 0.35em; vertical-align: middle; margin-left: 0.5rem\">MULTI_TISSUE_STRUCTURE</span>\n",
              "</mark>\n",
              " disease, the \n",
              "<mark class=\"entity\" style=\"background: #ddd; padding: 0.45em 0.6em; margin: 0 0.25em; line-height: 1; border-radius: 0.35em;\">\n",
              "    patient\n",
              "    <span style=\"font-size: 0.8em; font-weight: bold; line-height: 1; border-radius: 0.35em; vertical-align: middle; margin-left: 0.5rem\">ORGANISM</span>\n",
              "</mark>\n",
              " does not smoke, has no high \n",
              "<mark class=\"entity\" style=\"background: #ddd; padding: 0.45em 0.6em; margin: 0 0.25em; line-height: 1; border-radius: 0.35em;\">\n",
              "    blood\n",
              "    <span style=\"font-size: 0.8em; font-weight: bold; line-height: 1; border-radius: 0.35em; vertical-align: middle; margin-left: 0.5rem\">ORGANISM_SUBSTANCE</span>\n",
              "</mark>\n",
              " pressure or </br>diabetes, has borderline high \n",
              "<mark class=\"entity\" style=\"background: #ddd; padding: 0.45em 0.6em; margin: 0 0.25em; line-height: 1; border-radius: 0.35em;\">\n",
              "    cholesterol\n",
              "    <span style=\"font-size: 0.8em; font-weight: bold; line-height: 1; border-radius: 0.35em; vertical-align: middle; margin-left: 0.5rem\">SIMPLE_CHEMICAL</span>\n",
              "</mark>\n",
              ", and \n",
              "<mark class=\"entity\" style=\"background: #ddd; padding: 0.45em 0.6em; margin: 0 0.25em; line-height: 1; border-radius: 0.35em;\">\n",
              "    patient\n",
              "    <span style=\"font-size: 0.8em; font-weight: bold; line-height: 1; border-radius: 0.35em; vertical-align: middle; margin-left: 0.5rem\">ORGANISM</span>\n",
              "</mark>\n",
              "'s father died suddenly at age 40 from a </br>presumed \n",
              "<mark class=\"entity\" style=\"background: #ddd; padding: 0.45em 0.6em; margin: 0 0.25em; line-height: 1; border-radius: 0.35em;\">\n",
              "    heart\n",
              "    <span style=\"font-size: 0.8em; font-weight: bold; line-height: 1; border-radius: 0.35em; vertical-align: middle; margin-left: 0.5rem\">ORGAN</span>\n",
              "</mark>\n",
              " attack.  </br>The \n",
              "<mark class=\"entity\" style=\"background: #ddd; padding: 0.45em 0.6em; margin: 0 0.25em; line-height: 1; border-radius: 0.35em;\">\n",
              "    patient\n",
              "    <span style=\"font-size: 0.8em; font-weight: bold; line-height: 1; border-radius: 0.35em; vertical-align: middle; margin-left: 0.5rem\">ORGANISM</span>\n",
              "</mark>\n",
              " is concerned that he has the same problem that his father had and that he has the </br>same potential to &quot;drop dead&quot;. He normally has sexual intercourse with his wife one to two </br>times per week, but because of the fear of having the pain during intercourse the \n",
              "<mark class=\"entity\" style=\"background: #ddd; padding: 0.45em 0.6em; margin: 0 0.25em; line-height: 1; border-radius: 0.35em;\">\n",
              "    patient\n",
              "    <span style=\"font-size: 0.8em; font-weight: bold; line-height: 1; border-radius: 0.35em; vertical-align: middle; margin-left: 0.5rem\">ORGANISM</span>\n",
              "</mark>\n",
              " has </br>avoided any intimate contact with his wife. </br>  </br>Problem #2 Polycythemia Vera: three years ago, during a routine physical for work, the \n",
              "<mark class=\"entity\" style=\"background: #ddd; padding: 0.45em 0.6em; margin: 0 0.25em; line-height: 1; border-radius: 0.35em;\">\n",
              "    patient\n",
              "    <span style=\"font-size: 0.8em; font-weight: bold; line-height: 1; border-radius: 0.35em; vertical-align: middle; margin-left: 0.5rem\">ORGANISM</span>\n",
              "</mark>\n",
              " </br>was found to have elevated \n",
              "<mark class=\"entity\" style=\"background: #ddd; padding: 0.45em 0.6em; margin: 0 0.25em; line-height: 1; border-radius: 0.35em;\">\n",
              "    hemoglobin\n",
              "    <span style=\"font-size: 0.8em; font-weight: bold; line-height: 1; border-radius: 0.35em; vertical-align: middle; margin-left: 0.5rem\">GENE_OR_GENE_PRODUCT</span>\n",
              "</mark>\n",
              " and was worked-up at LUMC by Dr. Smith. His red </br>\n",
              "<mark class=\"entity\" style=\"background: #ddd; padding: 0.45em 0.6em; margin: 0 0.25em; line-height: 1; border-radius: 0.35em;\">\n",
              "    blood cell\n",
              "    <span style=\"font-size: 0.8em; font-weight: bold; line-height: 1; border-radius: 0.35em; vertical-align: middle; margin-left: 0.5rem\">CELL</span>\n",
              "</mark>\n",
              " mass was high and the \n",
              "<mark class=\"entity\" style=\"background: #ddd; padding: 0.45em 0.6em; margin: 0 0.25em; line-height: 1; border-radius: 0.35em;\">\n",
              "    patient\n",
              "    <span style=\"font-size: 0.8em; font-weight: bold; line-height: 1; border-radius: 0.35em; vertical-align: middle; margin-left: 0.5rem\">ORGANISM</span>\n",
              "</mark>\n",
              " was found to have primary Polycythemia Vera. Initially </br>he was treated with monthly phlebotomies, but for the last year has received a phlebotomy </br>only once every six months. He has no symptoms of this illness.  </br>The \n",
              "<mark class=\"entity\" style=\"background: #ddd; padding: 0.45em 0.6em; margin: 0 0.25em; line-height: 1; border-radius: 0.35em;\">\n",
              "    patient\n",
              "    <span style=\"font-size: 0.8em; font-weight: bold; line-height: 1; border-radius: 0.35em; vertical-align: middle; margin-left: 0.5rem\">ORGANISM</span>\n",
              "</mark>\n",
              " is aware of the possible complications of this illness. Initially, he worried about </br>them, but for the last year, since he has felt well; he accepts the illness and sees his </br>Hematologist on a regular basis. </br> </br>MEDICAL HISTORY </br>1.  Adult Illnesses: </br>a.  Polycythemia Vera – diagnosed incidentally three years ago.  Currently </br>asymptomatic and treated every 6 months with phlebotomy. </br>b.  Hypercholesterolemia – diagnosed by screening two years ago.  Treated with </br>‘statin’ medication.  </br>2.  Health Screening: colonoscopy at LUMC 2009, no \n",
              "<mark class=\"entity\" style=\"background: #ddd; padding: 0.45em 0.6em; margin: 0 0.25em; line-height: 1; border-radius: 0.35em;\">\n",
              "    polyps \n",
              "\n",
              "    <span style=\"font-size: 0.8em; font-weight: bold; line-height: 1; border-radius: 0.35em; vertical-align: middle; margin-left: 0.5rem\">PATHOLOGICAL_FORMATION</span>\n",
              "</mark>\n",
              "3.  Immunizations – tetanus booster in 2016 </br>4.  Obstetric &amp; Gynecologic History – N/A </br>5.  Psychiatric Illnesses or Hospitalizations - none </br>6.  Significant Childhood Illnesses - none </br>  MedHistory_Example  page 1 of 3 </div></span>"
            ]
          },
          "metadata": {}
        }
      ]
    },
    {
      "cell_type": "code",
      "source": [],
      "metadata": {
        "id": "ATzhKD_YWLC-"
      },
      "execution_count": null,
      "outputs": []
    }
  ]
}