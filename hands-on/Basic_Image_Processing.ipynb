{
  "nbformat": 4,
  "nbformat_minor": 0,
  "metadata": {
    "colab": {
      "provenance": [],
      "collapsed_sections": [],
      "authorship_tag": "ABX9TyPIuG2/1polBqu9PelP5sg+",
      "include_colab_link": true
    },
    "kernelspec": {
      "name": "python3",
      "display_name": "Python 3"
    },
    "language_info": {
      "name": "python"
    }
  },
  "cells": [
    {
      "cell_type": "markdown",
      "metadata": {
        "id": "view-in-github",
        "colab_type": "text"
      },
      "source": [
        "<a href=\"https://colab.research.google.com/github/Hemantr05/msrit-ai-in-medicine/blob/master/hands-on/Basic_Image_Processing.ipynb\" target=\"_parent\"><img src=\"https://colab.research.google.com/assets/colab-badge.svg\" alt=\"Open In Colab\"/></a>"
      ]
    },
    {
      "cell_type": "markdown",
      "source": [
        "## Image Processing\n",
        "\n",
        "**Fundamentals of Image Processing:**<br>\n",
        "\n",
        "![dip_fundamentals](https://i.imgur.com/0b8xSvm.jpg)\n",
        "\n",
        "1. Image Acquisition – It could be as simple as being given an image which is in digital form. The main work involves: <br>\n",
        "  (a) Scaling <br>\n",
        "  (b) Color conversion (RGB to Gray or vice-versa) \n",
        "\n",
        "2. Image Enhancement - It is amongst the simplest and most appealing in areas of Image Processing it is also used to extract some hidden details from an image and is subjective. \n",
        "\n",
        "3. Image Restoration - It also deals with appealing of an image but it is objective(Restoration is based on mathematical or probabilistic model or image degradation). \n",
        "\n",
        "4. Color Image Processing – It deals with pseudocolor and full color image processing color models are applicable to digital image processing. \n",
        "\n",
        "5. Wavelets and multi-resolution processing – It is foundation of representing images in various degrees. \n",
        "\n",
        "6. Image Compressions - It involves in developing some functions to perform this operation. It mainly deals with image size or resolution. \n",
        "\n",
        "7. Morphological Processing - It deals with tools for extracting image components that are useful in the representation & description of shape. \n",
        "\n",
        "8. Image Segmentation -It includes partitioning an image into its constituent parts or objects. Autonomous segmentation is the most difficult task in Image Processing. \n",
        "\n",
        "9. Representation and Description - It follows output of segmentation stage, choosing a representation is only the part of solution for transforming raw data into processed data. \n",
        "\n",
        "10. Object Detection and Recognition - It is a process that assigns a label to an object based on its descriptor. \n",
        "\n",
        "Resource: https://www.ques10.com/p/33595/what-is-image-processing-explain-fundamental-steps/"
      ],
      "metadata": {
        "id": "2kyGsZTGaZcB"
      }
    },
    {
      "cell_type": "code",
      "source": [],
      "metadata": {
        "id": "8FBJe7zPb79U"
      },
      "execution_count": null,
      "outputs": []
    }
  ]
}